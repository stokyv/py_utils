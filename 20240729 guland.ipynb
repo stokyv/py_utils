{
 "cells": [
  {
   "cell_type": "code",
   "execution_count": 1,
   "metadata": {},
   "outputs": [],
   "source": [
    "import requests"
   ]
  },
  {
   "cell_type": "code",
   "execution_count": null,
   "metadata": {},
   "outputs": [],
   "source": []
  },
  {
   "cell_type": "code",
   "execution_count": 3,
   "metadata": {},
   "outputs": [],
   "source": [
    "marker_lat = f''\n",
    "marker_lon = r''\n",
    "hanoi = '01'\n",
    "guland = f'https://guland.vn/get-bound-2?marker_lat=21.022366641825993&marker_lng=105.83043515682222&province_id=01'\n",
    "guland = f'https://guland.vn/get-bound-2?marker_lat={marker_lat}&marker_lng={marker_lon}&province_id={hanoi}'\n",
    "\n"
   ]
  },
  {
   "cell_type": "code",
   "execution_count": 6,
   "metadata": {},
   "outputs": [],
   "source": [
    "url = 'https://guland.vn/get-bound-2'\n",
    "params = {\n",
    "    'marker_lat': '21.022366641825993',\n",
    "    'marker_lng': '105.83043515682222',\n",
    "    'province_id': '01'\n",
    "}\n",
    "marker_lat: 21.02338313342041\n",
    "marker_lng: 105.83275794982912\n",
    "province_id: 01\n",
    "\n",
    "marker_lat += 0.001\n",
    "marker_lng += 0.001"
   ]
  },
  {
   "cell_type": "code",
   "execution_count": 12,
   "metadata": {},
   "outputs": [],
   "source": [
    "headers = {\n",
    "    'Accept': '*/*',\n",
    "    'Accept-Encoding': 'gzip, deflate, br, zstd',\n",
    "    'Accept-Language': 'en-US,en;q=0.9',\n",
    "    'Connection': 'keep-alive',\n",
    "    # 'Cookie': 'is_show_free=eyJpdiI6IjE1aEYxaytJMnhBWTNYa2s5Vi83U2c9PSIsInZhbHVlIjoiT1dCeXJLSWJCREdpTDlWZ3NLUkVkSEduTGcrL0IwZkRvbVNoYW10bWxsUHZBdHNsbFRoQmFYd1N0MzJZVmJHRVFraXVaejNYSTZ3RzN0djJBQ0JaMGc9PSIsIm1hYyI6ImMxNGE5ODZkNGZhZTAzNDkwMjNlZTliNDUxNjgzMDRiMTA2ZDZhYjVjZDk5NDQ4ZWMyYzIwMjEwYTFkYWE1NzYifQ%3D%3D; affiliate_phone=eyJpdiI6IldkMGNqRWh2VDJoeVc3U3pHYWp6SWc9PSIsInZhbHVlIjoiejFVOVA3d2M3eHVENzlVaS9tU1pYVWRJQWZvUHY0dXVaakFKRStYOGZVblRyWEczN2RNcU9XQ1VhQnMvVVUvdVVPYUVUOXp4am1CWEpaWTlwSjFwQVE9PSIsIm1hYyI6IjRhNjkyYzYxZTdlNWUxZWJiYzU2YjI3Y2E3OTIwNDViNzA0MjhiZWVhNGQ0YzRmYzg3NmE0M2Q2ZmU0MjlhNzUifQ%3D%3D; affiliate_id=eyJpdiI6IjRVWkxWVDNpcmI2RDRqYldLNDd1MGc9PSIsInZhbHVlIjoiL0JIeVdiMmxWQ2ZJcjdoVjlYWUZpTDhoTzdBTGJZUVljY2dOL3Z4dnpCZHJubW1TWlJGUEg4MHduVnIrMVUrWCIsIm1hYyI6IjkzNmU3ZWJiODlhNmY1YTYzODk0ZTY4MTA2OTNjNzA1NGFjYzUzYjVkYzE0YmU2ZDIzNGJmZTcwNzcwM2ZkZDgifQ%3D%3D; XSRF-TOKEN=eyJpdiI6IkVtWkUvQVY0a21NNmpxV252SlNVTnc9PSIsInZhbHVlIjoibzc3S1dVc2FwT2d2VzlUM29SMU1rbUZGWlZQN2RETzRzT0o3NVBSVDlUYU1yWnJjMVZGaDhoL1oxbTRDRUxFczBya3Q0VFFkZHNYRXYzRjMyalIvdFp1WmdMT3pvSWZYdXZSdWtlSm9RK1kydWNzbG02cm9jR2lvalBSMytQSFIiLCJtYWMiOiI5ZDg3ZjQzODNiZjdlMTg1MmVlMjU5N2M0YTc4NTFmYzNhNzM1MzBkODc3MzAyY2RkM2ZhYjA1M2Q5Y2JkNTkxIn0%3D; laravel_session=eyJpdiI6IlNvcmI2aXJWdG42MEZ4S08rL0E1Vmc9PSIsInZhbHVlIjoiTHU2bnhYMGRkbFl0a2dHZWxNRlhjNHhSdHZTV25uK0VnZTl2ajdPRU14ekNyck9rQzd1c00zM21lUlRFR0dBelY3bnN5SXE3UmV4S1ROUTkxRFE0NkFXN20xY251aFlMWi8zN2txZzhhWHU4QWpWZTZtL0NLMGpaRDVjQ3NycGwiLCJtYWMiOiI4Nzc4YjA5ZGJjODM2MTM0NjkwY2Y3M2RiNzZlYWU2MDNlMzRiZWVmODI0MzM3MDc1NTY0NDAyMTYyZWQzOTYxIn0%3D',\n",
    "    'DNT': '1',\n",
    "    'Host': 'guland.vn',\n",
    "    'Referer': 'https://guland.vn/soi-quy-hoach',\n",
    "    'Sec-Fetch-Dest': 'empty',\n",
    "    'Sec-Fetch-Mode': 'cors',\n",
    "    'Sec-Fetch-Site': 'same-origin',\n",
    "    'User-Agent': 'Mozilla/5.0 (Windows NT 10.0; Win64; x64) AppleWebKit/537.36 (KHTML, like Gecko) Chrome/126.0.0.0 Safari/537.36',\n",
    "    # 'X-CSRF-Token': 'LhjdMtU8PdRlQfVntxVJb6orlj6YltppGjD53MaN',\n",
    "    'X-Requested-With': 'XMLHttpRequest',\n",
    "    'sec-ch-ua': '\"Not/A)Brand\";v=\"8\", \"Chromium\";v=\"126\", \"Google Chrome\";v=\"126\"',\n",
    "    'sec-ch-ua-mobile': '?0',\n",
    "    'sec-ch-ua-platform': '\"Windows\"'\n",
    "}\n"
   ]
  },
  {
   "cell_type": "code",
   "execution_count": 13,
   "metadata": {},
   "outputs": [
    {
     "name": "stdout",
     "output_type": "stream",
     "text": [
      "Status Code: 200\n",
      "\n",
      "Response Content:\n",
      "{\"status\":1,\"points\":[{\"lat\":21.02234129,\"lng\":105.83045434},{\"lat\":21.022338000000001,\"lng\":105.83046376999999},{\"lat\":21.022304550000001,\"lng\":105.83045083},{\"lat\":21.022317430000001,\"lng\":105.83041416},{\"lat\":21.022318540000001,\"lng\":105.83041108},{\"lat\":21.022380999999999,\"lng\":105.83043488},{\"lat\":21.022370980000002,\"lng\":105.83046477000001},{\"lat\":21.02234129,\"lng\":105.83045434}],\"address\":\"Th\\u1eeda 152, t\\u1edd 26. Di\\u1ec7n t\\u00edch: 28.892m\\u00b2\",\"id\":9052380,\"province_id\":\"01\",\"district_id\":\"006\",\"ward_id\":\"00196\",\"html\":\"<button class=\\\"sqh-pin-inf__cls\\\"><i class=\\\"mdi mdi-close\\\" id=\\\"close-pin\\\"><\\/i><\\/button>\\r\\n    <div class=\\\"sqh-pin-inf__swrp\\\">\\r\\n                            <a href=\\\"\\/signin\\\" class=\\\"sqh-pin-inf__saved btn btn--blue\\\">\\r\\n                <span>L\\u01b0u th\\u1eeda n\\u00e0y l\\u00ean b\\u1ea3n \\u0111\\u1ed3<\\/span>\\r\\n            <\\/a>\\r\\n                        <\\/div>\\r\\n    <div class=\\\"sqh-pin-inf__wrp\\\">\\r\\n        <div class=\\\"sqh-pin-inf__tle\\\">T\\u1edd <b>26<\\/b> Th\\u1eeda <b>152<\\/b>, Di\\u1ec7n t\\u00edch\\r\\n            <b>28.89m\\u00b2<\\/b><\\/div>\\r\\n                    <div class=\\\"sqh-pin-inf__adr\\\">\\r\\n                <i class=\\\"mdi mdi-map-marker-outline\\\"><\\/i>\\r\\n                <a href=\\\"\\/soi-quy-hoach\\/ha-noi\\/quan-dong-da\\/phuong-hang-bot\\\">Ph\\u01b0\\u1eddng H\\u00e0ng B\\u1ed9t<\\/a>\\r\\n                <a href=\\\"\\/soi-quy-hoach\\/ha-noi\\/quan-dong-da\\\">Qu\\u1eadn \\u0110\\u1ed1ng \\u0110a<\\/a>\\r\\n                <a href=\\\"\\/soi-quy-hoach\\/ha-noi\\\">H\\u00e0 N\\u1ed9i<\\/a>\\r\\n            <\\/div>\\r\\n                                                                            <div class=\\\"type-info\\\">\\r\\n                            <div class=\\\"type-info__id t-sdb--odt\\\">ODT<\\/div>\\r\\n                                                        <span class=\\\"type-info__sqr t-sdb--odt\\\">28.89m\\u00b2<\\/span>\\r\\n                                                        <span class=\\\"type-info__txt\\\">\\u0110\\u1ea5t \\u1edf t\\u1ea1i \\u0111\\u00f4 th\\u1ecb<\\/span>\\r\\n                        <\\/div>\\r\\n                                    \\r\\n                \\r\\n                <div class=\\\"text-row row\\\">\\r\\n                    <div class=\\\"col-12\\\">\\r\\n                        <div class=\\\"note-col\\\">(D\\u1eef li\\u1ec7u tham kh\\u1ea3o, vui l\\u00f2ng c\\u0103n c\\u1ee9 theo m\\u00e0u v\\u00e0 k\\u00fd hi\\u1ec7u \\u0111\\u00e2t tr\\u00ean b\\u1ea3n \\u0111\\u1ed3)\\r\\n                        <\\/div>\\r\\n                    <\\/div>\\r\\n                <\\/div>\\r\\n                            <form id=\\\"form-data-save-post\\\">\\r\\n                <input type=\\\"hidden\\\" name=\\\"lat\\\" value=\\\"21.022366641825993\\\">\\r\\n                <input type=\\\"hidden\\\" name=\\\"lng\\\" value=\\\"105.83043515682222\\\">\\r\\n                <input type=\\\"hidden\\\" name=\\\"item_id\\\" value=\\\"9052380\\\">\\r\\n            <\\/form>\\r\\n            <div class=\\\"sqh-pin-inf__atn\\\">\\r\\n                <a href=\\\"\\/ky-gui?lat=21.022366641825993&lng=105.83043515682222&land_id=9052380\\\" class=\\\"btn btn-outline-blue\\\">\\r\\n                    <i class=\\\"mdi mdi-map-marker-plus-outline\\\"><\\/i>\\r\\n                    <span>\\u0110\\u0103ng b\\u00e1n<\\/span>\\r\\n                <\\/a>\\r\\n                <a href=\\\"#Modal-ColorPalette\\\" data-toggle=\\\"modal\\\" class=\\\"btn btn-outline-blue\\\">\\r\\n                    <i class=\\\"mdi mdi-palette\\\"><\\/i>\\r\\n                    <span>K\\u00fd hi\\u1ec7u \\u0111\\u1ea5t<\\/span>\\r\\n                <\\/a>\\r\\n                <a href=\\\"https:\\/\\/www.google.com\\/maps\\/search\\/?api=1&query=21.022366641825993,105.83043515682222\\\" target=\\\"_blank\\\"\\r\\n                   class=\\\"btn btn-outline-blue\\\">\\r\\n                    <i class=\\\"mdi mdi-directions\\\"><\\/i>\\r\\n                    <span>Ch\\u1ec9 \\u0111\\u01b0\\u1eddng<\\/span>\\r\\n                <\\/a>\\r\\n                <a href=\\\"#\\\"\\r\\n                   class=\\\"btn btn-outline-blue draw-border-custom\\\" id=\\\"footer-draw\\\">\\r\\n                    <i class=\\\"mdi mdi-ruler-square-compass\\\"><\\/i>\\r\\n                    <span>\\u0110o v\\u1ebd<\\/span>\\r\\n                <\\/a>\\r\\n            <\\/div>\\r\\n            <\\/div>\\r\\n\",\"ext\":[]}\n"
     ]
    }
   ],
   "source": [
    "try:\n",
    "    response = requests.get(url, params=params, headers=headers)\n",
    "    response.raise_for_status()  # Raises an HTTPError for bad responses (4xx or 5xx)\n",
    "    \n",
    "    print(f\"Status Code: {response.status_code}\")\n",
    "    # print(\"Response Headers:\")\n",
    "    # for key, value in response.headers.items():\n",
    "        # print(f\"{key}: {value}\")\n",
    "    print(\"\\nResponse Content:\")\n",
    "    print(response.text)\n",
    "except requests.exceptions.RequestException as e:\n",
    "    print(f\"An error occurred: {e}\")"
   ]
  },
  {
   "cell_type": "code",
   "execution_count": 4,
   "metadata": {},
   "outputs": [
    {
     "data": {
      "text/plain": [
       "500"
      ]
     },
     "execution_count": 4,
     "metadata": {},
     "output_type": "execute_result"
    }
   ],
   "source": [
    "resp = requests.get(guland)\n",
    "resp.status_code"
   ]
  },
  {
   "cell_type": "code",
   "execution_count": 22,
   "metadata": {},
   "outputs": [
    {
     "name": "stdout",
     "output_type": "stream",
     "text": [
      "Status Code: 200\n",
      "\n",
      "Response Content:\n",
      "{\"status\":1,\"points\":[{\"lat\":10.786156999999999,\"lng\":106.700183},{\"lat\":10.786128,\"lng\":106.700152},{\"lat\":10.786146,\"lng\":106.700132},{\"lat\":10.786177,\"lng\":106.70016200000001},{\"lat\":10.786156999999999,\"lng\":106.700183}],\"address\":\"Th\\u1eeda 31, t\\u1edd 49. Di\\u1ec7n t\\u00edch: 14.58m\\u00b2\",\"id\":3763792,\"province_id\":\"79\",\"district_id\":\"760\",\"ward_id\":\"26737\",\"html\":\"<button class=\\\"sqh-pin-inf__cls\\\"><i class=\\\"mdi mdi-close\\\" id=\\\"close-pin\\\"><\\/i><\\/button>\\r\\n    <div class=\\\"sqh-pin-inf__swrp\\\">\\r\\n                            <a href=\\\"\\/signin\\\" class=\\\"sqh-pin-inf__saved btn btn--blue\\\">\\r\\n                <span>L\\u01b0u th\\u1eeda n\\u00e0y l\\u00ean b\\u1ea3n \\u0111\\u1ed3<\\/span>\\r\\n            <\\/a>\\r\\n                        <\\/div>\\r\\n    <div class=\\\"sqh-pin-inf__wrp\\\">\\r\\n        <div class=\\\"sqh-pin-inf__tle\\\">T\\u1edd <b>49<\\/b> Th\\u1eeda <b>31<\\/b>, Di\\u1ec7n t\\u00edch\\r\\n            <b>14.58m\\u00b2<\\/b><\\/div>\\r\\n                    <div class=\\\"sqh-pin-inf__adr\\\">\\r\\n                <i class=\\\"mdi mdi-map-marker-outline\\\"><\\/i>\\r\\n                <a href=\\\"\\/soi-quy-hoach\\/tp-ho-chi-minh\\/quan-1\\/phuong-da-kao\\\">Ph\\u01b0\\u1eddng \\u0110a Kao<\\/a>\\r\\n                <a href=\\\"\\/soi-quy-hoach\\/tp-ho-chi-minh\\/quan-1\\\">Qu\\u1eadn 1<\\/a>\\r\\n                <a href=\\\"\\/soi-quy-hoach\\/tp-ho-chi-minh\\\">TP. H\\u1ed3 Ch\\u00ed Minh<\\/a>\\r\\n            <\\/div>\\r\\n                                                                            <div class=\\\"type-info\\\">\\r\\n                            <div class=\\\"type-info__id t-sdb--odt\\\">ODT<\\/div>\\r\\n                                                        <span class=\\\"type-info__sqr t-sdb--odt\\\">14.6m\\u00b2<\\/span>\\r\\n                                                        <span class=\\\"type-info__txt\\\">\\u0110\\u1ea5t \\u1edf t\\u1ea1i \\u0111\\u00f4 th\\u1ecb<\\/span>\\r\\n                        <\\/div>\\r\\n                                    \\r\\n                \\r\\n                <div class=\\\"text-row row\\\">\\r\\n                    <div class=\\\"col-12\\\">\\r\\n                        <div class=\\\"note-col\\\">(D\\u1eef li\\u1ec7u tham kh\\u1ea3o, vui l\\u00f2ng c\\u0103n c\\u1ee9 theo m\\u00e0u v\\u00e0 k\\u00fd hi\\u1ec7u \\u0111\\u00e2t tr\\u00ean b\\u1ea3n \\u0111\\u1ed3)\\r\\n                        <\\/div>\\r\\n                    <\\/div>\\r\\n                <\\/div>\\r\\n                            <form id=\\\"form-data-save-post\\\">\\r\\n                <input type=\\\"hidden\\\" name=\\\"lat\\\" value=\\\"10.78615734346311\\\">\\r\\n                <input type=\\\"hidden\\\" name=\\\"lng\\\" value=\\\"106.7001578019138\\\">\\r\\n                <input type=\\\"hidden\\\" name=\\\"item_id\\\" value=\\\"3763792\\\">\\r\\n            <\\/form>\\r\\n            <div class=\\\"sqh-pin-inf__atn\\\">\\r\\n                <a href=\\\"\\/ky-gui?lat=10.78615734346311&lng=106.7001578019138&land_id=3763792\\\" class=\\\"btn btn-outline-blue\\\">\\r\\n                    <i class=\\\"mdi mdi-map-marker-plus-outline\\\"><\\/i>\\r\\n                    <span>\\u0110\\u0103ng b\\u00e1n<\\/span>\\r\\n                <\\/a>\\r\\n                <a href=\\\"#Modal-ColorPalette\\\" data-toggle=\\\"modal\\\" class=\\\"btn btn-outline-blue\\\">\\r\\n                    <i class=\\\"mdi mdi-palette\\\"><\\/i>\\r\\n                    <span>K\\u00fd hi\\u1ec7u \\u0111\\u1ea5t<\\/span>\\r\\n                <\\/a>\\r\\n                <a href=\\\"https:\\/\\/www.google.com\\/maps\\/search\\/?api=1&query=10.78615734346311,106.7001578019138\\\" target=\\\"_blank\\\"\\r\\n                   class=\\\"btn btn-outline-blue\\\">\\r\\n                    <i class=\\\"mdi mdi-directions\\\"><\\/i>\\r\\n                    <span>Ch\\u1ec9 \\u0111\\u01b0\\u1eddng<\\/span>\\r\\n                <\\/a>\\r\\n                <a href=\\\"#\\\"\\r\\n                   class=\\\"btn btn-outline-blue draw-border-custom\\\" id=\\\"footer-draw\\\">\\r\\n                    <i class=\\\"mdi mdi-ruler-square-compass\\\"><\\/i>\\r\\n                    <span>\\u0110o v\\u1ebd<\\/span>\\r\\n                <\\/a>\\r\\n            <\\/div>\\r\\n            <\\/div>\\r\\n\",\"ext\":[]}\n"
     ]
    }
   ],
   "source": [
    "data = []\n",
    "lat, lon = 21.022366641825993, 105.83043515682222\n",
    "lat, lon = 10.78615734346311, 106.7001578019138\n",
    "\n",
    "for i in range(1):\n",
    "    url = 'https://guland.vn/get-bound-2'\n",
    "    params = {\n",
    "        'marker_lat': f'{lat}',\n",
    "        'marker_lng': f'{lon}',\n",
    "        'province_id': '01'\n",
    "    }    \n",
    "    headers = {\n",
    "        'Accept': '*/*',\n",
    "        'Accept-Encoding': 'gzip, deflate, br, zstd',\n",
    "        'Accept-Language': 'en-US,en;q=0.9',\n",
    "        'Connection': 'keep-alive',\n",
    "        'Cookie': 'is_show_free=eyJpdiI6IjE1aEYxaytJMnhBWTNYa2s5Vi83U2c9PSIsInZhbHVlIjoiT1dCeXJLSWJCREdpTDlWZ3NLUkVkSEduTGcrL0IwZkRvbVNoYW10bWxsUHZBdHNsbFRoQmFYd1N0MzJZVmJHRVFraXVaejNYSTZ3RzN0djJBQ0JaMGc9PSIsIm1hYyI6ImMxNGE5ODZkNGZhZTAzNDkwMjNlZTliNDUxNjgzMDRiMTA2ZDZhYjVjZDk5NDQ4ZWMyYzIwMjEwYTFkYWE1NzYifQ%3D%3D; affiliate_phone=eyJpdiI6IldkMGNqRWh2VDJoeVc3U3pHYWp6SWc9PSIsInZhbHVlIjoiejFVOVA3d2M3eHVENzlVaS9tU1pYVWRJQWZvUHY0dXVaakFKRStYOGZVblRyWEczN2RNcU9XQ1VhQnMvVVUvdVVPYUVUOXp4am1CWEpaWTlwSjFwQVE9PSIsIm1hYyI6IjRhNjkyYzYxZTdlNWUxZWJiYzU2YjI3Y2E3OTIwNDViNzA0MjhiZWVhNGQ0YzRmYzg3NmE0M2Q2ZmU0MjlhNzUifQ%3D%3D; affiliate_id=eyJpdiI6IjRVWkxWVDNpcmI2RDRqYldLNDd1MGc9PSIsInZhbHVlIjoiL0JIeVdiMmxWQ2ZJcjdoVjlYWUZpTDhoTzdBTGJZUVljY2dOL3Z4dnpCZHJubW1TWlJGUEg4MHduVnIrMVUrWCIsIm1hYyI6IjkzNmU3ZWJiODlhNmY1YTYzODk0ZTY4MTA2OTNjNzA1NGFjYzUzYjVkYzE0YmU2ZDIzNGJmZTcwNzcwM2ZkZDgifQ%3D%3D; XSRF-TOKEN=eyJpdiI6IkVtWkUvQVY0a21NNmpxV252SlNVTnc9PSIsInZhbHVlIjoibzc3S1dVc2FwT2d2VzlUM29SMU1rbUZGWlZQN2RETzRzT0o3NVBSVDlUYU1yWnJjMVZGaDhoL1oxbTRDRUxFczBya3Q0VFFkZHNYRXYzRjMyalIvdFp1WmdMT3pvSWZYdXZSdWtlSm9RK1kydWNzbG02cm9jR2lvalBSMytQSFIiLCJtYWMiOiI5ZDg3ZjQzODNiZjdlMTg1MmVlMjU5N2M0YTc4NTFmYzNhNzM1MzBkODc3MzAyY2RkM2ZhYjA1M2Q5Y2JkNTkxIn0%3D; laravel_session=eyJpdiI6IlNvcmI2aXJWdG42MEZ4S08rL0E1Vmc9PSIsInZhbHVlIjoiTHU2bnhYMGRkbFl0a2dHZWxNRlhjNHhSdHZTV25uK0VnZTl2ajdPRU14ekNyck9rQzd1c00zM21lUlRFR0dBelY3bnN5SXE3UmV4S1ROUTkxRFE0NkFXN20xY251aFlMWi8zN2txZzhhWHU4QWpWZTZtL0NLMGpaRDVjQ3NycGwiLCJtYWMiOiI4Nzc4YjA5ZGJjODM2MTM0NjkwY2Y3M2RiNzZlYWU2MDNlMzRiZWVmODI0MzM3MDc1NTY0NDAyMTYyZWQzOTYxIn0%3D',\n",
    "        'DNT': '1',\n",
    "        'Host': 'guland.vn',\n",
    "        'Referer': 'https://guland.vn/soi-quy-hoach',\n",
    "        'Sec-Fetch-Dest': 'empty',\n",
    "        'Sec-Fetch-Mode': 'cors',\n",
    "        'Sec-Fetch-Site': 'same-origin',\n",
    "        'User-Agent': 'Mozilla/5.0 (Windows NT 10.0; Win64; x64) AppleWebKit/537.36 (KHTML, like Gecko) Chrome/126.0.0.0 Safari/537.36',\n",
    "        'X-CSRF-Token': 'LhjdMtU8PdRlQfVntxVJb6orlj6YltppGjD53MaN',\n",
    "        'X-Requested-With': 'XMLHttpRequest',\n",
    "        'sec-ch-ua': '\"Not/A)Brand\";v=\"8\", \"Chromium\";v=\"126\", \"Google Chrome\";v=\"126\"',\n",
    "        'sec-ch-ua-mobile': '?0',\n",
    "        'sec-ch-ua-platform': '\"Windows\"'\n",
    "    }\n",
    "\n",
    "    try:\n",
    "        response = requests.get(url, params=params, headers=headers)\n",
    "        response.raise_for_status()  # Raises an HTTPError for bad responses (4xx or 5xx)\n",
    "        \n",
    "        print(f\"Status Code: {response.status_code}\")\n",
    "        # print(\"Response Headers:\")\n",
    "        # for key, value in response.headers.items():\n",
    "            # print(f\"{key}: {value}\")\n",
    "        print(\"\\nResponse Content:\")\n",
    "        print(response.text)\n",
    "        data.append(response)\n",
    "\n",
    "    except requests.exceptions.RequestException as e:\n",
    "        print(f\"An error occurred: {e}\")\n",
    "    finally:        \n",
    "        lat += 0.001\n",
    "        lon += 0.001\n"
   ]
  },
  {
   "cell_type": "code",
   "execution_count": 23,
   "metadata": {},
   "outputs": [
    {
     "data": {
      "text/plain": [
       "{'status': 1,\n",
       " 'points': [{'lat': 10.786157, 'lng': 106.700183},\n",
       "  {'lat': 10.786128, 'lng': 106.700152},\n",
       "  {'lat': 10.786146, 'lng': 106.700132},\n",
       "  {'lat': 10.786177, 'lng': 106.700162},\n",
       "  {'lat': 10.786157, 'lng': 106.700183}],\n",
       " 'address': 'Thửa 31, tờ 49. Diện tích: 14.58m²',\n",
       " 'id': 3763792,\n",
       " 'province_id': '79',\n",
       " 'district_id': '760',\n",
       " 'ward_id': '26737',\n",
       " 'html': '<button class=\"sqh-pin-inf__cls\"><i class=\"mdi mdi-close\" id=\"close-pin\"></i></button>\\r\\n    <div class=\"sqh-pin-inf__swrp\">\\r\\n                            <a href=\"/signin\" class=\"sqh-pin-inf__saved btn btn--blue\">\\r\\n                <span>Lưu thửa này lên bản đồ</span>\\r\\n            </a>\\r\\n                        </div>\\r\\n    <div class=\"sqh-pin-inf__wrp\">\\r\\n        <div class=\"sqh-pin-inf__tle\">Tờ <b>49</b> Thửa <b>31</b>, Diện tích\\r\\n            <b>14.58m²</b></div>\\r\\n                    <div class=\"sqh-pin-inf__adr\">\\r\\n                <i class=\"mdi mdi-map-marker-outline\"></i>\\r\\n                <a href=\"/soi-quy-hoach/tp-ho-chi-minh/quan-1/phuong-da-kao\">Phường Đa Kao</a>\\r\\n                <a href=\"/soi-quy-hoach/tp-ho-chi-minh/quan-1\">Quận 1</a>\\r\\n                <a href=\"/soi-quy-hoach/tp-ho-chi-minh\">TP. Hồ Chí Minh</a>\\r\\n            </div>\\r\\n                                                                            <div class=\"type-info\">\\r\\n                            <div class=\"type-info__id t-sdb--odt\">ODT</div>\\r\\n                                                        <span class=\"type-info__sqr t-sdb--odt\">14.6m²</span>\\r\\n                                                        <span class=\"type-info__txt\">Đất ở tại đô thị</span>\\r\\n                        </div>\\r\\n                                    \\r\\n                \\r\\n                <div class=\"text-row row\">\\r\\n                    <div class=\"col-12\">\\r\\n                        <div class=\"note-col\">(Dữ liệu tham khảo, vui lòng căn cứ theo màu và ký hiệu đât trên bản đồ)\\r\\n                        </div>\\r\\n                    </div>\\r\\n                </div>\\r\\n                            <form id=\"form-data-save-post\">\\r\\n                <input type=\"hidden\" name=\"lat\" value=\"10.78615734346311\">\\r\\n                <input type=\"hidden\" name=\"lng\" value=\"106.7001578019138\">\\r\\n                <input type=\"hidden\" name=\"item_id\" value=\"3763792\">\\r\\n            </form>\\r\\n            <div class=\"sqh-pin-inf__atn\">\\r\\n                <a href=\"/ky-gui?lat=10.78615734346311&lng=106.7001578019138&land_id=3763792\" class=\"btn btn-outline-blue\">\\r\\n                    <i class=\"mdi mdi-map-marker-plus-outline\"></i>\\r\\n                    <span>Đăng bán</span>\\r\\n                </a>\\r\\n                <a href=\"#Modal-ColorPalette\" data-toggle=\"modal\" class=\"btn btn-outline-blue\">\\r\\n                    <i class=\"mdi mdi-palette\"></i>\\r\\n                    <span>Ký hiệu đất</span>\\r\\n                </a>\\r\\n                <a href=\"https://www.google.com/maps/search/?api=1&query=10.78615734346311,106.7001578019138\" target=\"_blank\"\\r\\n                   class=\"btn btn-outline-blue\">\\r\\n                    <i class=\"mdi mdi-directions\"></i>\\r\\n                    <span>Chỉ đường</span>\\r\\n                </a>\\r\\n                <a href=\"#\"\\r\\n                   class=\"btn btn-outline-blue draw-border-custom\" id=\"footer-draw\">\\r\\n                    <i class=\"mdi mdi-ruler-square-compass\"></i>\\r\\n                    <span>Đo vẽ</span>\\r\\n                </a>\\r\\n            </div>\\r\\n            </div>\\r\\n',\n",
       " 'ext': []}"
      ]
     },
     "execution_count": 23,
     "metadata": {},
     "output_type": "execute_result"
    }
   ],
   "source": [
    "response.json() #267370490034"
   ]
  }
 ],
 "metadata": {
  "kernelspec": {
   "display_name": "async0",
   "language": "python",
   "name": "python3"
  },
  "language_info": {
   "codemirror_mode": {
    "name": "ipython",
    "version": 3
   },
   "file_extension": ".py",
   "mimetype": "text/x-python",
   "name": "python",
   "nbconvert_exporter": "python",
   "pygments_lexer": "ipython3",
   "version": "3.12.4"
  }
 },
 "nbformat": 4,
 "nbformat_minor": 2
}
