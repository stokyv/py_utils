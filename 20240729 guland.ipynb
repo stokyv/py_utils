{
 "cells": [
  {
   "cell_type": "code",
   "execution_count": 1,
   "metadata": {},
   "outputs": [],
   "source": [
    "import requests"
   ]
  },
  {
   "cell_type": "code",
   "execution_count": 3,
   "metadata": {},
   "outputs": [],
   "source": [
    "marker_lat = f''\n",
    "marker_lon = r''\n",
    "hanoi = '01'\n",
    "guland = f'https://guland.vn/get-bound-2?marker_lat=21.022366641825993&marker_lng=105.83043515682222&province_id=01'\n",
    "guland = f'https://guland.vn/get-bound-2?marker_lat={marker_lat}&marker_lng={marker_lon}&province_id={hanoi}'\n",
    "\n"
   ]
  },
  {
   "cell_type": "code",
   "execution_count": 6,
   "metadata": {},
   "outputs": [],
   "source": [
    "url = 'https://guland.vn/get-bound-2'\n",
    "params = {\n",
    "    'marker_lat': '21.022366641825993',\n",
    "    'marker_lng': '105.83043515682222',\n",
    "    'province_id': '01'\n",
    "}\n",
    "marker_lat: 21.02338313342041\n",
    "marker_lng: 105.83275794982912\n",
    "province_id: 01\n",
    "\n",
    "marker_lat += 0.001\n",
    "marker_lng += 0.001"
   ]
  },
  {
   "cell_type": "code",
   "execution_count": 12,
   "metadata": {},
   "outputs": [],
   "source": [
    "headers = {\n",
    "    'Accept': '*/*',\n",
    "    'Accept-Encoding': 'gzip, deflate, br, zstd',\n",
    "    'Accept-Language': 'en-US,en;q=0.9',\n",
    "    'Connection': 'keep-alive',\n",
    "    # 'Cookie': 'is_show_free=eyJpdiI6IjE1aEYxaytJMnhBWTNYa2s5Vi83U2c9PSIsInZhbHVlIjoiT1dCeXJLSWJCREdpTDlWZ3NLUkVkSEduTGcrL0IwZkRvbVNoYW10bWxsUHZBdHNsbFRoQmFYd1N0MzJZVmJHRVFraXVaejNYSTZ3RzN0djJBQ0JaMGc9PSIsIm1hYyI6ImMxNGE5ODZkNGZhZTAzNDkwMjNlZTliNDUxNjgzMDRiMTA2ZDZhYjVjZDk5NDQ4ZWMyYzIwMjEwYTFkYWE1NzYifQ%3D%3D; affiliate_phone=eyJpdiI6IldkMGNqRWh2VDJoeVc3U3pHYWp6SWc9PSIsInZhbHVlIjoiejFVOVA3d2M3eHVENzlVaS9tU1pYVWRJQWZvUHY0dXVaakFKRStYOGZVblRyWEczN2RNcU9XQ1VhQnMvVVUvdVVPYUVUOXp4am1CWEpaWTlwSjFwQVE9PSIsIm1hYyI6IjRhNjkyYzYxZTdlNWUxZWJiYzU2YjI3Y2E3OTIwNDViNzA0MjhiZWVhNGQ0YzRmYzg3NmE0M2Q2ZmU0MjlhNzUifQ%3D%3D; affiliate_id=eyJpdiI6IjRVWkxWVDNpcmI2RDRqYldLNDd1MGc9PSIsInZhbHVlIjoiL0JIeVdiMmxWQ2ZJcjdoVjlYWUZpTDhoTzdBTGJZUVljY2dOL3Z4dnpCZHJubW1TWlJGUEg4MHduVnIrMVUrWCIsIm1hYyI6IjkzNmU3ZWJiODlhNmY1YTYzODk0ZTY4MTA2OTNjNzA1NGFjYzUzYjVkYzE0YmU2ZDIzNGJmZTcwNzcwM2ZkZDgifQ%3D%3D; XSRF-TOKEN=eyJpdiI6IkVtWkUvQVY0a21NNmpxV252SlNVTnc9PSIsInZhbHVlIjoibzc3S1dVc2FwT2d2VzlUM29SMU1rbUZGWlZQN2RETzRzT0o3NVBSVDlUYU1yWnJjMVZGaDhoL1oxbTRDRUxFczBya3Q0VFFkZHNYRXYzRjMyalIvdFp1WmdMT3pvSWZYdXZSdWtlSm9RK1kydWNzbG02cm9jR2lvalBSMytQSFIiLCJtYWMiOiI5ZDg3ZjQzODNiZjdlMTg1MmVlMjU5N2M0YTc4NTFmYzNhNzM1MzBkODc3MzAyY2RkM2ZhYjA1M2Q5Y2JkNTkxIn0%3D; laravel_session=eyJpdiI6IlNvcmI2aXJWdG42MEZ4S08rL0E1Vmc9PSIsInZhbHVlIjoiTHU2bnhYMGRkbFl0a2dHZWxNRlhjNHhSdHZTV25uK0VnZTl2ajdPRU14ekNyck9rQzd1c00zM21lUlRFR0dBelY3bnN5SXE3UmV4S1ROUTkxRFE0NkFXN20xY251aFlMWi8zN2txZzhhWHU4QWpWZTZtL0NLMGpaRDVjQ3NycGwiLCJtYWMiOiI4Nzc4YjA5ZGJjODM2MTM0NjkwY2Y3M2RiNzZlYWU2MDNlMzRiZWVmODI0MzM3MDc1NTY0NDAyMTYyZWQzOTYxIn0%3D',\n",
    "    'DNT': '1',\n",
    "    'Host': 'guland.vn',\n",
    "    'Referer': 'https://guland.vn/soi-quy-hoach',\n",
    "    'Sec-Fetch-Dest': 'empty',\n",
    "    'Sec-Fetch-Mode': 'cors',\n",
    "    'Sec-Fetch-Site': 'same-origin',\n",
    "    'User-Agent': 'Mozilla/5.0 (Windows NT 10.0; Win64; x64) AppleWebKit/537.36 (KHTML, like Gecko) Chrome/126.0.0.0 Safari/537.36',\n",
    "    # 'X-CSRF-Token': 'LhjdMtU8PdRlQfVntxVJb6orlj6YltppGjD53MaN',\n",
    "    'X-Requested-With': 'XMLHttpRequest',\n",
    "    'sec-ch-ua': '\"Not/A)Brand\";v=\"8\", \"Chromium\";v=\"126\", \"Google Chrome\";v=\"126\"',\n",
    "    'sec-ch-ua-mobile': '?0',\n",
    "    'sec-ch-ua-platform': '\"Windows\"'\n",
    "}\n"
   ]
  },
  {
   "cell_type": "code",
   "execution_count": 13,
   "metadata": {},
   "outputs": [
    {
     "name": "stdout",
     "output_type": "stream",
     "text": [
      "Status Code: 200\n",
      "\n",
      "Response Content:\n",
      "{\"status\":1,\"points\":[{\"lat\":21.02234129,\"lng\":105.83045434},{\"lat\":21.022338000000001,\"lng\":105.83046376999999},{\"lat\":21.022304550000001,\"lng\":105.83045083},{\"lat\":21.022317430000001,\"lng\":105.83041416},{\"lat\":21.022318540000001,\"lng\":105.83041108},{\"lat\":21.022380999999999,\"lng\":105.83043488},{\"lat\":21.022370980000002,\"lng\":105.83046477000001},{\"lat\":21.02234129,\"lng\":105.83045434}],\"address\":\"Th\\u1eeda 152, t\\u1edd 26. Di\\u1ec7n t\\u00edch: 28.892m\\u00b2\",\"id\":9052380,\"province_id\":\"01\",\"district_id\":\"006\",\"ward_id\":\"00196\",\"html\":\"<button class=\\\"sqh-pin-inf__cls\\\"><i class=\\\"mdi mdi-close\\\" id=\\\"close-pin\\\"><\\/i><\\/button>\\r\\n    <div class=\\\"sqh-pin-inf__swrp\\\">\\r\\n                            <a href=\\\"\\/signin\\\" class=\\\"sqh-pin-inf__saved btn btn--blue\\\">\\r\\n                <span>L\\u01b0u th\\u1eeda n\\u00e0y l\\u00ean b\\u1ea3n \\u0111\\u1ed3<\\/span>\\r\\n            <\\/a>\\r\\n                        <\\/div>\\r\\n    <div class=\\\"sqh-pin-inf__wrp\\\">\\r\\n        <div class=\\\"sqh-pin-inf__tle\\\">T\\u1edd <b>26<\\/b> Th\\u1eeda <b>152<\\/b>, Di\\u1ec7n t\\u00edch\\r\\n            <b>28.89m\\u00b2<\\/b><\\/div>\\r\\n                    <div class=\\\"sqh-pin-inf__adr\\\">\\r\\n                <i class=\\\"mdi mdi-map-marker-outline\\\"><\\/i>\\r\\n                <a href=\\\"\\/soi-quy-hoach\\/ha-noi\\/quan-dong-da\\/phuong-hang-bot\\\">Ph\\u01b0\\u1eddng H\\u00e0ng B\\u1ed9t<\\/a>\\r\\n                <a href=\\\"\\/soi-quy-hoach\\/ha-noi\\/quan-dong-da\\\">Qu\\u1eadn \\u0110\\u1ed1ng \\u0110a<\\/a>\\r\\n                <a href=\\\"\\/soi-quy-hoach\\/ha-noi\\\">H\\u00e0 N\\u1ed9i<\\/a>\\r\\n            <\\/div>\\r\\n                                                                            <div class=\\\"type-info\\\">\\r\\n                            <div class=\\\"type-info__id t-sdb--odt\\\">ODT<\\/div>\\r\\n                                                        <span class=\\\"type-info__sqr t-sdb--odt\\\">28.89m\\u00b2<\\/span>\\r\\n                                                        <span class=\\\"type-info__txt\\\">\\u0110\\u1ea5t \\u1edf t\\u1ea1i \\u0111\\u00f4 th\\u1ecb<\\/span>\\r\\n                        <\\/div>\\r\\n                                    \\r\\n                \\r\\n                <div class=\\\"text-row row\\\">\\r\\n                    <div class=\\\"col-12\\\">\\r\\n                        <div class=\\\"note-col\\\">(D\\u1eef li\\u1ec7u tham kh\\u1ea3o, vui l\\u00f2ng c\\u0103n c\\u1ee9 theo m\\u00e0u v\\u00e0 k\\u00fd hi\\u1ec7u \\u0111\\u00e2t tr\\u00ean b\\u1ea3n \\u0111\\u1ed3)\\r\\n                        <\\/div>\\r\\n                    <\\/div>\\r\\n                <\\/div>\\r\\n                            <form id=\\\"form-data-save-post\\\">\\r\\n                <input type=\\\"hidden\\\" name=\\\"lat\\\" value=\\\"21.022366641825993\\\">\\r\\n                <input type=\\\"hidden\\\" name=\\\"lng\\\" value=\\\"105.83043515682222\\\">\\r\\n                <input type=\\\"hidden\\\" name=\\\"item_id\\\" value=\\\"9052380\\\">\\r\\n            <\\/form>\\r\\n            <div class=\\\"sqh-pin-inf__atn\\\">\\r\\n                <a href=\\\"\\/ky-gui?lat=21.022366641825993&lng=105.83043515682222&land_id=9052380\\\" class=\\\"btn btn-outline-blue\\\">\\r\\n                    <i class=\\\"mdi mdi-map-marker-plus-outline\\\"><\\/i>\\r\\n                    <span>\\u0110\\u0103ng b\\u00e1n<\\/span>\\r\\n                <\\/a>\\r\\n                <a href=\\\"#Modal-ColorPalette\\\" data-toggle=\\\"modal\\\" class=\\\"btn btn-outline-blue\\\">\\r\\n                    <i class=\\\"mdi mdi-palette\\\"><\\/i>\\r\\n                    <span>K\\u00fd hi\\u1ec7u \\u0111\\u1ea5t<\\/span>\\r\\n                <\\/a>\\r\\n                <a href=\\\"https:\\/\\/www.google.com\\/maps\\/search\\/?api=1&query=21.022366641825993,105.83043515682222\\\" target=\\\"_blank\\\"\\r\\n                   class=\\\"btn btn-outline-blue\\\">\\r\\n                    <i class=\\\"mdi mdi-directions\\\"><\\/i>\\r\\n                    <span>Ch\\u1ec9 \\u0111\\u01b0\\u1eddng<\\/span>\\r\\n                <\\/a>\\r\\n                <a href=\\\"#\\\"\\r\\n                   class=\\\"btn btn-outline-blue draw-border-custom\\\" id=\\\"footer-draw\\\">\\r\\n                    <i class=\\\"mdi mdi-ruler-square-compass\\\"><\\/i>\\r\\n                    <span>\\u0110o v\\u1ebd<\\/span>\\r\\n                <\\/a>\\r\\n            <\\/div>\\r\\n            <\\/div>\\r\\n\",\"ext\":[]}\n"
     ]
    }
   ],
   "source": [
    "try:\n",
    "    response = requests.get(url, params=params, headers=headers)\n",
    "    response.raise_for_status()  # Raises an HTTPError for bad responses (4xx or 5xx)\n",
    "    \n",
    "    print(f\"Status Code: {response.status_code}\")\n",
    "    # print(\"Response Headers:\")\n",
    "    # for key, value in response.headers.items():\n",
    "        # print(f\"{key}: {value}\")\n",
    "    print(\"\\nResponse Content:\")\n",
    "    print(response.text)\n",
    "except requests.exceptions.RequestException as e:\n",
    "    print(f\"An error occurred: {e}\")"
   ]
  },
  {
   "cell_type": "code",
   "execution_count": 3,
   "metadata": {},
   "outputs": [],
   "source": [
    "marker_lat, marker_lng = '21.001354258873516', '105.84740549325944'\n",
    "province_id='01' #hanoi"
   ]
  },
  {
   "cell_type": "code",
   "execution_count": 25,
   "metadata": {},
   "outputs": [
    {
     "name": "stderr",
     "output_type": "stream",
     "text": [
      "<>:56: SyntaxWarning: invalid escape sequence '\\/'\n",
      "<>:56: SyntaxWarning: invalid escape sequence '\\/'\n",
      "C:\\Users\\Glaucos\\AppData\\Local\\Temp\\ipykernel_25388\\4244343867.py:56: SyntaxWarning: invalid escape sequence '\\/'\n",
      "  \"html\": \"<button class=\\\"sqh-pin-inf__cls\\\"><i class=\\\"mdi mdi-close\\\" id=\\\"close-pin\\\"><\\/i><\\/button>\\r\\n    <div class=\\\"sqh-pin-inf__swrp\\\">\\r\\n                            <a href=\\\"\\/signin\\\" class=\\\"sqh-pin-inf__saved btn btn--blue\\\">\\r\\n                <span>L\\u01b0u th\\u1eeda n\\u00e0y l\\u00ean b\\u1ea3n \\u0111\\u1ed3<\\/span>\\r\\n            <\\/a>\\r\\n                        <\\/div>\\r\\n    <div class=\\\"sqh-pin-inf__wrp\\\">\\r\\n        <div class=\\\"sqh-pin-inf__tle\\\">T\\u1edd <b>17<\\/b> Th\\u1eeda <b>95<\\/b>, Di\\u1ec7n t\\u00edch\\r\\n            <b>116.49m\\u00b2<\\/b><\\/div>\\r\\n                    <div class=\\\"sqh-pin-inf__adr\\\">\\r\\n                <i class=\\\"mdi mdi-map-marker-outline\\\"><\\/i>\\r\\n                <a href=\\\"\\/soi-quy-hoach\\/ha-noi\\/quan-hai-ba-trung\\/phuong-dong-tam\\\">Ph\\u01b0\\u1eddng \\u0110\\u1ed3ng T\\u00e2m<\\/a>\\r\\n                <a href=\\\"\\/soi-quy-hoach\\/ha-noi\\/quan-hai-ba-trung\\\">Qu\\u1eadn Hai B\\u00e0 Tr\\u01b0ng<\\/a>\\r\\n                <a href=\\\"\\/soi-quy-hoach\\/ha-noi\\\">H\\u00e0 N\\u1ed9i<\\/a>\\r\\n            <\\/div>\\r\\n                                                                            <div class=\\\"type-info\\\">\\r\\n                            <div class=\\\"type-info__id t-sdb--odt\\\">ODT<\\/div>\\r\\n                                                        <span class=\\\"type-info__sqr t-sdb--odt\\\">116.49m\\u00b2<\\/span>\\r\\n                                                        <span class=\\\"type-info__txt\\\">\\u0110\\u1ea5t \\u1edf t\\u1ea1i \\u0111\\u00f4 th\\u1ecb<\\/span>\\r\\n                        <\\/div>\\r\\n                                    \\r\\n                \\r\\n                <div class=\\\"text-row row\\\">\\r\\n                    <div class=\\\"col-12\\\">\\r\\n                        <div class=\\\"note-col\\\">(D\\u1eef li\\u1ec7u tham kh\\u1ea3o, vui l\\u00f2ng c\\u0103n c\\u1ee9 theo m\\u00e0u v\\u00e0 k\\u00fd hi\\u1ec7u \\u0111\\u00e2t tr\\u00ean b\\u1ea3n \\u0111\\u1ed3)\\r\\n                        <\\/div>\\r\\n                    <\\/div>\\r\\n                <\\/div>\\r\\n                            <form id=\\\"form-data-save-post\\\">\\r\\n                <input type=\\\"hidden\\\" name=\\\"lat\\\" value=\\\"21.001349250803205\\\">\\r\\n                <input type=\\\"hidden\\\" name=\\\"lng\\\" value=\\\"105.8439561724663\\\">\\r\\n                <input type=\\\"hidden\\\" name=\\\"item_id\\\" value=\\\"9330260\\\">\\r\\n            <\\/form>\\r\\n            <div class=\\\"sqh-pin-inf__atn\\\">\\r\\n                <a href=\\\"\\/ky-gui?lat=21.001349250803205&lng=105.8439561724663&land_id=9330260\\\" class=\\\"btn btn-outline-blue\\\">\\r\\n                    <i class=\\\"mdi mdi-map-marker-plus-outline\\\"><\\/i>\\r\\n                    <span>\\u0110\\u0103ng b\\u00e1n<\\/span>\\r\\n                <\\/a>\\r\\n                <a href=\\\"#Modal-ColorPalette\\\" data-toggle=\\\"modal\\\" class=\\\"btn btn-outline-blue\\\">\\r\\n                    <i class=\\\"mdi mdi-palette\\\"><\\/i>\\r\\n                    <span>K\\u00fd hi\\u1ec7u \\u0111\\u1ea5t<\\/span>\\r\\n                <\\/a>\\r\\n                <a href=\\\"https:\\/\\/www.google.com\\/maps\\/search\\/?api=1&query=21.001349250803205,105.8439561724663\\\" target=\\\"_blank\\\"\\r\\n                   class=\\\"btn btn-outline-blue\\\">\\r\\n                    <i class=\\\"mdi mdi-directions\\\"><\\/i>\\r\\n                    <span>Ch\\u1ec9 \\u0111\\u01b0\\u1eddng<\\/span>\\r\\n                <\\/a>\\r\\n                <a href=\\\"#\\\"\\r\\n                   class=\\\"btn btn-outline-blue draw-border-custom\\\" id=\\\"footer-draw\\\">\\r\\n                    <i class=\\\"mdi mdi-ruler-square-compass\\\"><\\/i>\\r\\n                    <span>\\u0110o v\\u1ebd<\\/span>\\r\\n                <\\/a>\\r\\n            <\\/div>\\r\\n            <\\/div>\\r\\n\",\n"
     ]
    }
   ],
   "source": [
    "p2_lat, p2_lon = 21.001349250803205, 105.8439561724663\n",
    "province_id = '01'\n",
    "resp2 = {\n",
    "    \"status\": 1,\n",
    "    \"points\": [\n",
    "        {\n",
    "            \"lat\": 21.001376189999998,\n",
    "            \"lng\": 105.84400212\n",
    "        },\n",
    "        {\n",
    "            \"lat\": 21.001263819999998,\n",
    "            \"lng\": 105.84398456\n",
    "        },\n",
    "        {\n",
    "            \"lat\": 21.001277959999999,\n",
    "            \"lng\": 105.8439025\n",
    "        },\n",
    "        {\n",
    "            \"lat\": 21.001313410000002,\n",
    "            \"lng\": 105.84391049\n",
    "        },\n",
    "        {\n",
    "            \"lat\": 21.00138922,\n",
    "            \"lng\": 105.84392284\n",
    "        },\n",
    "        {\n",
    "            \"lat\": 21.00139192,\n",
    "            \"lng\": 105.84394315\n",
    "        },\n",
    "        {\n",
    "            \"lat\": 21.001400749999998,\n",
    "            \"lng\": 105.84398512999999\n",
    "        },\n",
    "        {\n",
    "            \"lat\": 21.00140055,\n",
    "            \"lng\": 105.84398956\n",
    "        },\n",
    "        {\n",
    "            \"lat\": 21.001399079999999,\n",
    "            \"lng\": 105.84399292000001\n",
    "        },\n",
    "        {\n",
    "            \"lat\": 21.00139682,\n",
    "            \"lng\": 105.84399492\n",
    "        },\n",
    "        {\n",
    "            \"lat\": 21.001376189999998,\n",
    "            \"lng\": 105.84400212\n",
    "        }\n",
    "    ],\n",
    "    \"address\": \"Th\\u1eeda 95, t\\u1edd 17. Di\\u1ec7n t\\u00edch: 116.49m\\u00b2\",\n",
    "    \"id\": 9330260,\n",
    "    \"province_id\": \"01\",\n",
    "    \"district_id\": \"007\",\n",
    "    \"ward_id\": \"00280\",\n",
    "    \"html\": \"<button class=\\\"sqh-pin-inf__cls\\\"><i class=\\\"mdi mdi-close\\\" id=\\\"close-pin\\\"><\\/i><\\/button>\\r\\n    <div class=\\\"sqh-pin-inf__swrp\\\">\\r\\n                            <a href=\\\"\\/signin\\\" class=\\\"sqh-pin-inf__saved btn btn--blue\\\">\\r\\n                <span>L\\u01b0u th\\u1eeda n\\u00e0y l\\u00ean b\\u1ea3n \\u0111\\u1ed3<\\/span>\\r\\n            <\\/a>\\r\\n                        <\\/div>\\r\\n    <div class=\\\"sqh-pin-inf__wrp\\\">\\r\\n        <div class=\\\"sqh-pin-inf__tle\\\">T\\u1edd <b>17<\\/b> Th\\u1eeda <b>95<\\/b>, Di\\u1ec7n t\\u00edch\\r\\n            <b>116.49m\\u00b2<\\/b><\\/div>\\r\\n                    <div class=\\\"sqh-pin-inf__adr\\\">\\r\\n                <i class=\\\"mdi mdi-map-marker-outline\\\"><\\/i>\\r\\n                <a href=\\\"\\/soi-quy-hoach\\/ha-noi\\/quan-hai-ba-trung\\/phuong-dong-tam\\\">Ph\\u01b0\\u1eddng \\u0110\\u1ed3ng T\\u00e2m<\\/a>\\r\\n                <a href=\\\"\\/soi-quy-hoach\\/ha-noi\\/quan-hai-ba-trung\\\">Qu\\u1eadn Hai B\\u00e0 Tr\\u01b0ng<\\/a>\\r\\n                <a href=\\\"\\/soi-quy-hoach\\/ha-noi\\\">H\\u00e0 N\\u1ed9i<\\/a>\\r\\n            <\\/div>\\r\\n                                                                            <div class=\\\"type-info\\\">\\r\\n                            <div class=\\\"type-info__id t-sdb--odt\\\">ODT<\\/div>\\r\\n                                                        <span class=\\\"type-info__sqr t-sdb--odt\\\">116.49m\\u00b2<\\/span>\\r\\n                                                        <span class=\\\"type-info__txt\\\">\\u0110\\u1ea5t \\u1edf t\\u1ea1i \\u0111\\u00f4 th\\u1ecb<\\/span>\\r\\n                        <\\/div>\\r\\n                                    \\r\\n                \\r\\n                <div class=\\\"text-row row\\\">\\r\\n                    <div class=\\\"col-12\\\">\\r\\n                        <div class=\\\"note-col\\\">(D\\u1eef li\\u1ec7u tham kh\\u1ea3o, vui l\\u00f2ng c\\u0103n c\\u1ee9 theo m\\u00e0u v\\u00e0 k\\u00fd hi\\u1ec7u \\u0111\\u00e2t tr\\u00ean b\\u1ea3n \\u0111\\u1ed3)\\r\\n                        <\\/div>\\r\\n                    <\\/div>\\r\\n                <\\/div>\\r\\n                            <form id=\\\"form-data-save-post\\\">\\r\\n                <input type=\\\"hidden\\\" name=\\\"lat\\\" value=\\\"21.001349250803205\\\">\\r\\n                <input type=\\\"hidden\\\" name=\\\"lng\\\" value=\\\"105.8439561724663\\\">\\r\\n                <input type=\\\"hidden\\\" name=\\\"item_id\\\" value=\\\"9330260\\\">\\r\\n            <\\/form>\\r\\n            <div class=\\\"sqh-pin-inf__atn\\\">\\r\\n                <a href=\\\"\\/ky-gui?lat=21.001349250803205&lng=105.8439561724663&land_id=9330260\\\" class=\\\"btn btn-outline-blue\\\">\\r\\n                    <i class=\\\"mdi mdi-map-marker-plus-outline\\\"><\\/i>\\r\\n                    <span>\\u0110\\u0103ng b\\u00e1n<\\/span>\\r\\n                <\\/a>\\r\\n                <a href=\\\"#Modal-ColorPalette\\\" data-toggle=\\\"modal\\\" class=\\\"btn btn-outline-blue\\\">\\r\\n                    <i class=\\\"mdi mdi-palette\\\"><\\/i>\\r\\n                    <span>K\\u00fd hi\\u1ec7u \\u0111\\u1ea5t<\\/span>\\r\\n                <\\/a>\\r\\n                <a href=\\\"https:\\/\\/www.google.com\\/maps\\/search\\/?api=1&query=21.001349250803205,105.8439561724663\\\" target=\\\"_blank\\\"\\r\\n                   class=\\\"btn btn-outline-blue\\\">\\r\\n                    <i class=\\\"mdi mdi-directions\\\"><\\/i>\\r\\n                    <span>Ch\\u1ec9 \\u0111\\u01b0\\u1eddng<\\/span>\\r\\n                <\\/a>\\r\\n                <a href=\\\"#\\\"\\r\\n                   class=\\\"btn btn-outline-blue draw-border-custom\\\" id=\\\"footer-draw\\\">\\r\\n                    <i class=\\\"mdi mdi-ruler-square-compass\\\"><\\/i>\\r\\n                    <span>\\u0110o v\\u1ebd<\\/span>\\r\\n                <\\/a>\\r\\n            <\\/div>\\r\\n            <\\/div>\\r\\n\",\n",
    "    \"ext\": []\n",
    "}"
   ]
  },
  {
   "cell_type": "code",
   "execution_count": 4,
   "metadata": {},
   "outputs": [
    {
     "name": "stdout",
     "output_type": "stream",
     "text": [
      "Status Code: 200\n",
      "Status Code: 200\n",
      "Status Code: 200\n",
      "Status Code: 200\n",
      "Status Code: 200\n",
      "Status Code: 200\n",
      "Status Code: 200\n",
      "Status Code: 200\n",
      "Status Code: 200\n",
      "Status Code: 200\n"
     ]
    }
   ],
   "source": [
    "# TEST: request thong tin thuat dat tai Ha Noi\n",
    "\n",
    "import time\n",
    "\n",
    "p2_lat, p2_lon = 21.001349250803205, 105.8439561724663\n",
    "province_id = '01' #ha noi\n",
    "\n",
    "results = []\n",
    "\n",
    "lat, lon = p2_lat, p2_lon #hanoi\n",
    "province_id='01'\n",
    "\n",
    "for i in range(10):\n",
    "    data = fetch_data(lat, lon, '01')\n",
    "    results.append(data)\n",
    "    lat += 0.001\n",
    "    lon += 0.001\n",
    "    time.sleep(0.5)\n",
    "\n",
    "#30 call requests until block"
   ]
  },
  {
   "cell_type": "code",
   "execution_count": 5,
   "metadata": {},
   "outputs": [
    {
     "data": {
      "text/plain": [
       "{'status': 1,\n",
       " 'points': [{'lat': 21.00137619, 'lng': 105.84400212},\n",
       "  {'lat': 21.00126382, 'lng': 105.84398456},\n",
       "  {'lat': 21.00127796, 'lng': 105.8439025},\n",
       "  {'lat': 21.00131341, 'lng': 105.84391049},\n",
       "  {'lat': 21.00138922, 'lng': 105.84392284},\n",
       "  {'lat': 21.00139192, 'lng': 105.84394315},\n",
       "  {'lat': 21.00140075, 'lng': 105.84398513},\n",
       "  {'lat': 21.00140055, 'lng': 105.84398956},\n",
       "  {'lat': 21.00139908, 'lng': 105.84399292},\n",
       "  {'lat': 21.00139682, 'lng': 105.84399492},\n",
       "  {'lat': 21.00137619, 'lng': 105.84400212}],\n",
       " 'address': 'Thửa 95, tờ 17. Diện tích: 116.49m²',\n",
       " 'id': 9330260,\n",
       " 'province_id': '01',\n",
       " 'district_id': '007',\n",
       " 'ward_id': '00280',\n",
       " 'html': '<button class=\"sqh-pin-inf__cls\"><i class=\"mdi mdi-close\" id=\"close-pin\"></i></button>\\r\\n    <div class=\"sqh-pin-inf__swrp\">\\r\\n                            <a href=\"/signin\" class=\"sqh-pin-inf__saved btn btn--blue\">\\r\\n                <span>Lưu thửa này lên bản đồ</span>\\r\\n            </a>\\r\\n                        </div>\\r\\n    <div class=\"sqh-pin-inf__wrp\">\\r\\n        <div class=\"sqh-pin-inf__tle\">Tờ <b>17</b> Thửa <b>95</b>, Diện tích\\r\\n            <b>116.49m²</b></div>\\r\\n                    <div class=\"sqh-pin-inf__adr\">\\r\\n                <i class=\"mdi mdi-map-marker-outline\"></i>\\r\\n                <a href=\"/soi-quy-hoach/ha-noi/quan-hai-ba-trung/phuong-dong-tam\">Phường Đồng Tâm</a>\\r\\n                <a href=\"/soi-quy-hoach/ha-noi/quan-hai-ba-trung\">Quận Hai Bà Trưng</a>\\r\\n                <a href=\"/soi-quy-hoach/ha-noi\">Hà Nội</a>\\r\\n            </div>\\r\\n                                                                            <div class=\"type-info\">\\r\\n                            <div class=\"type-info__id t-sdb--odt\">ODT</div>\\r\\n                                                        <span class=\"type-info__sqr t-sdb--odt\">116.49m²</span>\\r\\n                                                        <span class=\"type-info__txt\">Đất ở tại đô thị</span>\\r\\n                        </div>\\r\\n                                    \\r\\n                \\r\\n                <div class=\"text-row row\">\\r\\n                    <div class=\"col-12\">\\r\\n                        <div class=\"note-col\">(Dữ liệu tham khảo, vui lòng căn cứ theo màu và ký hiệu đât trên bản đồ)\\r\\n                        </div>\\r\\n                    </div>\\r\\n                </div>\\r\\n                            <form id=\"form-data-save-post\">\\r\\n                <input type=\"hidden\" name=\"lat\" value=\"21.001349250803205\">\\r\\n                <input type=\"hidden\" name=\"lng\" value=\"105.8439561724663\">\\r\\n                <input type=\"hidden\" name=\"item_id\" value=\"9330260\">\\r\\n            </form>\\r\\n            <div class=\"sqh-pin-inf__atn\">\\r\\n                <a href=\"/ky-gui?lat=21.001349250803205&lng=105.8439561724663&land_id=9330260\" class=\"btn btn-outline-blue\">\\r\\n                    <i class=\"mdi mdi-map-marker-plus-outline\"></i>\\r\\n                    <span>Đăng bán</span>\\r\\n                </a>\\r\\n                <a href=\"#Modal-ColorPalette\" data-toggle=\"modal\" class=\"btn btn-outline-blue\">\\r\\n                    <i class=\"mdi mdi-palette\"></i>\\r\\n                    <span>Ký hiệu đất</span>\\r\\n                </a>\\r\\n                <a href=\"https://www.google.com/maps/search/?api=1&query=21.001349250803205,105.8439561724663\" target=\"_blank\"\\r\\n                   class=\"btn btn-outline-blue\">\\r\\n                    <i class=\"mdi mdi-directions\"></i>\\r\\n                    <span>Chỉ đường</span>\\r\\n                </a>\\r\\n                <a href=\"#\"\\r\\n                   class=\"btn btn-outline-blue draw-border-custom\" id=\"footer-draw\">\\r\\n                    <i class=\"mdi mdi-ruler-square-compass\"></i>\\r\\n                    <span>Đo vẽ</span>\\r\\n                </a>\\r\\n            </div>\\r\\n            </div>\\r\\n',\n",
       " 'ext': []}"
      ]
     },
     "execution_count": 5,
     "metadata": {},
     "output_type": "execute_result"
    }
   ],
   "source": [
    "results[0]"
   ]
  },
  {
   "cell_type": "code",
   "execution_count": 10,
   "metadata": {},
   "outputs": [],
   "source": [
    "def process_data(response_data):\n",
    "    data = init_data_model()\n",
    "    data['status'] = response_data.get('status', None)\n",
    "    data['points'] = response_data.get('points', None)\n",
    "    data['address'] = response_data.get('address', None)\n",
    "    data['id'] = response_data.get('id', None)\n",
    "    data['province_id'] = response_data.get('province_id', None)\n",
    "    data['district_id'] = response_data.get('district_id', None)\n",
    "    data['ward_id'] = response_data.get('ward_id', None)\n",
    "    data['html'] = response_data.get('html', None)\n",
    "    data['ext'] = response_data.get('ext', None)\n",
    "    return data\n",
    "\n",
    "def add_to_mongo(mongo_queue, data):\n",
    "    # only add if data has id:\n",
    "    mongo_queue.insert_one(data)\n",
    "\n"
   ]
  },
  {
   "cell_type": "code",
   "execution_count": 1,
   "metadata": {},
   "outputs": [],
   "source": [
    "from guland import *"
   ]
  },
  {
   "cell_type": "code",
   "execution_count": 2,
   "metadata": {},
   "outputs": [
    {
     "name": "stdout",
     "output_type": "stream",
     "text": [
      "Status Code: 200\n",
      "Status Code: 200\n",
      "Status Code: 200\n",
      "Status Code: 200\n",
      "Status Code: 200\n",
      "Status Code: 200\n",
      "Status Code: 200\n",
      "Status Code: 200\n",
      "Status Code: 200\n",
      "Status Code: 200\n",
      "[{'status': 1, 'points': [{'lat': 21.00137619, 'lng': 105.84400212}, {'lat': 21.00126382, 'lng': 105.84398456}, {'lat': 21.00127796, 'lng': 105.8439025}, {'lat': 21.00131341, 'lng': 105.84391049}, {'lat': 21.00138922, 'lng': 105.84392284}, {'lat': 21.00139192, 'lng': 105.84394315}, {'lat': 21.00140075, 'lng': 105.84398513}, {'lat': 21.00140055, 'lng': 105.84398956}, {'lat': 21.00139908, 'lng': 105.84399292}, {'lat': 21.00139682, 'lng': 105.84399492}, {'lat': 21.00137619, 'lng': 105.84400212}], 'address': 'Thửa 95, tờ 17. Diện tích: 116.49m²', 'id': 9330260, 'province_id': '01', 'district_id': '007', 'ward_id': '00280', 'html': '<button class=\"sqh-pin-inf__cls\"><i class=\"mdi mdi-close\" id=\"close-pin\"></i></button>\\r\\n    <div class=\"sqh-pin-inf__swrp\">\\r\\n                            <a href=\"/signin\" class=\"sqh-pin-inf__saved btn btn--blue\">\\r\\n                <span>Lưu thửa này lên bản đồ</span>\\r\\n            </a>\\r\\n                        </div>\\r\\n    <div class=\"sqh-pin-inf__wrp\">\\r\\n        <div class=\"sqh-pin-inf__tle\">Tờ <b>17</b> Thửa <b>95</b>, Diện tích\\r\\n            <b>116.49m²</b></div>\\r\\n                    <div class=\"sqh-pin-inf__adr\">\\r\\n                <i class=\"mdi mdi-map-marker-outline\"></i>\\r\\n                <a href=\"/soi-quy-hoach/ha-noi/quan-hai-ba-trung/phuong-dong-tam\">Phường Đồng Tâm</a>\\r\\n                <a href=\"/soi-quy-hoach/ha-noi/quan-hai-ba-trung\">Quận Hai Bà Trưng</a>\\r\\n                <a href=\"/soi-quy-hoach/ha-noi\">Hà Nội</a>\\r\\n            </div>\\r\\n                                                                            <div class=\"type-info\">\\r\\n                            <div class=\"type-info__id t-sdb--odt\">ODT</div>\\r\\n                                                        <span class=\"type-info__sqr t-sdb--odt\">116.49m²</span>\\r\\n                                                        <span class=\"type-info__txt\">Đất ở tại đô thị</span>\\r\\n                        </div>\\r\\n                                    \\r\\n                \\r\\n                <div class=\"text-row row\">\\r\\n                    <div class=\"col-12\">\\r\\n                        <div class=\"note-col\">(Dữ liệu tham khảo, vui lòng căn cứ theo màu và ký hiệu đât trên bản đồ)\\r\\n                        </div>\\r\\n                    </div>\\r\\n                </div>\\r\\n                            <form id=\"form-data-save-post\">\\r\\n                <input type=\"hidden\" name=\"lat\" value=\"21.001349250803205\">\\r\\n                <input type=\"hidden\" name=\"lng\" value=\"105.8439561724663\">\\r\\n                <input type=\"hidden\" name=\"item_id\" value=\"9330260\">\\r\\n            </form>\\r\\n            <div class=\"sqh-pin-inf__atn\">\\r\\n                <a href=\"/ky-gui?lat=21.001349250803205&lng=105.8439561724663&land_id=9330260\" class=\"btn btn-outline-blue\">\\r\\n                    <i class=\"mdi mdi-map-marker-plus-outline\"></i>\\r\\n                    <span>Đăng bán</span>\\r\\n                </a>\\r\\n                <a href=\"#Modal-ColorPalette\" data-toggle=\"modal\" class=\"btn btn-outline-blue\">\\r\\n                    <i class=\"mdi mdi-palette\"></i>\\r\\n                    <span>Ký hiệu đất</span>\\r\\n                </a>\\r\\n                <a href=\"https://www.google.com/maps/search/?api=1&query=21.001349250803205,105.8439561724663\" target=\"_blank\"\\r\\n                   class=\"btn btn-outline-blue\">\\r\\n                    <i class=\"mdi mdi-directions\"></i>\\r\\n                    <span>Chỉ đường</span>\\r\\n                </a>\\r\\n                <a href=\"#\"\\r\\n                   class=\"btn btn-outline-blue draw-border-custom\" id=\"footer-draw\">\\r\\n                    <i class=\"mdi mdi-ruler-square-compass\"></i>\\r\\n                    <span>Đo vẽ</span>\\r\\n                </a>\\r\\n            </div>\\r\\n            </div>\\r\\n', 'ext': []}, {'status': 1, 'points': [{'lat': 21.00237477, 'lng': 105.84498819}, {'lat': 21.00231295, 'lng': 105.84491562}, {'lat': 21.00247804, 'lng': 105.8448818}, {'lat': 21.00248019, 'lng': 105.84488472}, {'lat': 21.00237477, 'lng': 105.84498819}], 'address': 'Thửa 34, tờ 46. Diện tích: 84.0411m²', 'id': 9395986, 'province_id': '01', 'district_id': '007', 'ward_id': '00277', 'html': '<button class=\"sqh-pin-inf__cls\"><i class=\"mdi mdi-close\" id=\"close-pin\"></i></button>\\r\\n    <div class=\"sqh-pin-inf__swrp\">\\r\\n                            <a href=\"/signin\" class=\"sqh-pin-inf__saved btn btn--blue\">\\r\\n                <span>Lưu thửa này lên bản đồ</span>\\r\\n            </a>\\r\\n                        </div>\\r\\n    <div class=\"sqh-pin-inf__wrp\">\\r\\n        <div class=\"sqh-pin-inf__tle\">Tờ <b>46</b> Thửa <b>34</b>, Diện tích\\r\\n            <b>84.04m²</b></div>\\r\\n                    <div class=\"sqh-pin-inf__adr\">\\r\\n                <i class=\"mdi mdi-map-marker-outline\"></i>\\r\\n                <a href=\"/soi-quy-hoach/ha-noi/quan-hai-ba-trung/phuong-bach-khoa\">Phường Bách Khoa</a>\\r\\n                <a href=\"/soi-quy-hoach/ha-noi/quan-hai-ba-trung\">Quận Hai Bà Trưng</a>\\r\\n                <a href=\"/soi-quy-hoach/ha-noi\">Hà Nội</a>\\r\\n            </div>\\r\\n                                                                            <div class=\"type-info\">\\r\\n                            <div class=\"type-info__id t-sdb--odt\">ODT</div>\\r\\n                                                        <span class=\"type-info__sqr t-sdb--odt\">84.04m²</span>\\r\\n                                                        <span class=\"type-info__txt\">Đất ở tại đô thị</span>\\r\\n                        </div>\\r\\n                                    \\r\\n                \\r\\n                <div class=\"text-row row\">\\r\\n                    <div class=\"col-12\">\\r\\n                        <div class=\"note-col\">(Dữ liệu tham khảo, vui lòng căn cứ theo màu và ký hiệu đât trên bản đồ)\\r\\n                        </div>\\r\\n                    </div>\\r\\n                </div>\\r\\n                            <form id=\"form-data-save-post\">\\r\\n                <input type=\"hidden\" name=\"lat\" value=\"21.002349250803206\">\\r\\n                <input type=\"hidden\" name=\"lng\" value=\"105.84495617246631\">\\r\\n                <input type=\"hidden\" name=\"item_id\" value=\"9395986\">\\r\\n            </form>\\r\\n            <div class=\"sqh-pin-inf__atn\">\\r\\n                <a href=\"/ky-gui?lat=21.002349250803206&lng=105.84495617246631&land_id=9395986\" class=\"btn btn-outline-blue\">\\r\\n                    <i class=\"mdi mdi-map-marker-plus-outline\"></i>\\r\\n                    <span>Đăng bán</span>\\r\\n                </a>\\r\\n                <a href=\"#Modal-ColorPalette\" data-toggle=\"modal\" class=\"btn btn-outline-blue\">\\r\\n                    <i class=\"mdi mdi-palette\"></i>\\r\\n                    <span>Ký hiệu đất</span>\\r\\n                </a>\\r\\n                <a href=\"https://www.google.com/maps/search/?api=1&query=21.002349250803206,105.84495617246631\" target=\"_blank\"\\r\\n                   class=\"btn btn-outline-blue\">\\r\\n                    <i class=\"mdi mdi-directions\"></i>\\r\\n                    <span>Chỉ đường</span>\\r\\n                </a>\\r\\n                <a href=\"#\"\\r\\n                   class=\"btn btn-outline-blue draw-border-custom\" id=\"footer-draw\">\\r\\n                    <i class=\"mdi mdi-ruler-square-compass\"></i>\\r\\n                    <span>Đo vẽ</span>\\r\\n                </a>\\r\\n            </div>\\r\\n            </div>\\r\\n', 'ext': []}, {'status': 1, 'points': [{'lat': 21.00337234, 'lng': 105.84595256}, {'lat': 21.00328034, 'lng': 105.84603886}, {'lat': 21.00324737, 'lng': 105.84607035}, {'lat': 21.00322871, 'lng': 105.84604731}, {'lat': 21.00323106, 'lng': 105.84604493}, {'lat': 21.00326114, 'lng': 105.84601593}, {'lat': 21.00331955, 'lng': 105.84596075}, {'lat': 21.00335311, 'lng': 105.84592904}, {'lat': 21.00336166, 'lng': 105.84593949}, {'lat': 21.00337234, 'lng': 105.84595256}], 'address': 'Thửa 79, tờ 41. Diện tích: 59.2507m²', 'id': 9393737, 'province_id': '01', 'district_id': '007', 'ward_id': '00277', 'html': '<button class=\"sqh-pin-inf__cls\"><i class=\"mdi mdi-close\" id=\"close-pin\"></i></button>\\r\\n    <div class=\"sqh-pin-inf__swrp\">\\r\\n                            <a href=\"/signin\" class=\"sqh-pin-inf__saved btn btn--blue\">\\r\\n                <span>Lưu thửa này lên bản đồ</span>\\r\\n            </a>\\r\\n                        </div>\\r\\n    <div class=\"sqh-pin-inf__wrp\">\\r\\n        <div class=\"sqh-pin-inf__tle\">Tờ <b>41</b> Thửa <b>79</b>, Diện tích\\r\\n            <b>59.25m²</b></div>\\r\\n                    <div class=\"sqh-pin-inf__adr\">\\r\\n                <i class=\"mdi mdi-map-marker-outline\"></i>\\r\\n                <a href=\"/soi-quy-hoach/ha-noi/quan-hai-ba-trung/phuong-bach-khoa\">Phường Bách Khoa</a>\\r\\n                <a href=\"/soi-quy-hoach/ha-noi/quan-hai-ba-trung\">Quận Hai Bà Trưng</a>\\r\\n                <a href=\"/soi-quy-hoach/ha-noi\">Hà Nội</a>\\r\\n            </div>\\r\\n                                                                            <div class=\"type-info\">\\r\\n                            <div class=\"type-info__id t-sdb--odt\">ODT</div>\\r\\n                                                        <span class=\"type-info__sqr t-sdb--odt\">59.25m²</span>\\r\\n                                                        <span class=\"type-info__txt\">Đất ở tại đô thị</span>\\r\\n                        </div>\\r\\n                                    \\r\\n                \\r\\n                <div class=\"text-row row\">\\r\\n                    <div class=\"col-12\">\\r\\n                        <div class=\"note-col\">(Dữ liệu tham khảo, vui lòng căn cứ theo màu và ký hiệu đât trên bản đồ)\\r\\n                        </div>\\r\\n                    </div>\\r\\n                </div>\\r\\n                            <form id=\"form-data-save-post\">\\r\\n                <input type=\"hidden\" name=\"lat\" value=\"21.003349250803208\">\\r\\n                <input type=\"hidden\" name=\"lng\" value=\"105.84595617246632\">\\r\\n                <input type=\"hidden\" name=\"item_id\" value=\"9393737\">\\r\\n            </form>\\r\\n            <div class=\"sqh-pin-inf__atn\">\\r\\n                <a href=\"/ky-gui?lat=21.003349250803208&lng=105.84595617246632&land_id=9393737\" class=\"btn btn-outline-blue\">\\r\\n                    <i class=\"mdi mdi-map-marker-plus-outline\"></i>\\r\\n                    <span>Đăng bán</span>\\r\\n                </a>\\r\\n                <a href=\"#Modal-ColorPalette\" data-toggle=\"modal\" class=\"btn btn-outline-blue\">\\r\\n                    <i class=\"mdi mdi-palette\"></i>\\r\\n                    <span>Ký hiệu đất</span>\\r\\n                </a>\\r\\n                <a href=\"https://www.google.com/maps/search/?api=1&query=21.003349250803208,105.84595617246632\" target=\"_blank\"\\r\\n                   class=\"btn btn-outline-blue\">\\r\\n                    <i class=\"mdi mdi-directions\"></i>\\r\\n                    <span>Chỉ đường</span>\\r\\n                </a>\\r\\n                <a href=\"#\"\\r\\n                   class=\"btn btn-outline-blue draw-border-custom\" id=\"footer-draw\">\\r\\n                    <i class=\"mdi mdi-ruler-square-compass\"></i>\\r\\n                    <span>Đo vẽ</span>\\r\\n                </a>\\r\\n            </div>\\r\\n            </div>\\r\\n', 'ext': []}, {'status': 1, 'points': [{'lat': 21.00494901, 'lng': 105.84656666}, {'lat': 21.00493562, 'lng': 105.84674431}, {'lat': 21.0049381, 'lng': 105.84674652}, {'lat': 21.00493804, 'lng': 105.8467502}, {'lat': 21.00492215, 'lng': 105.84680643}, {'lat': 21.00490995, 'lng': 105.84683801}, {'lat': 21.00489724, 'lng': 105.84685885}, {'lat': 21.00487927, 'lng': 105.84687886}, {'lat': 21.00485607, 'lng': 105.84689861}, {'lat': 21.00480979, 'lng': 105.84693106}, {'lat': 21.00464048, 'lng': 105.84704907}, {'lat': 21.00458749, 'lng': 105.84708664}, {'lat': 21.00455066, 'lng': 105.84711244}, {'lat': 21.00453599, 'lng': 105.84712247}, {'lat': 21.00449886, 'lng': 105.84712072}, {'lat': 21.00437237, 'lng': 105.84717446}, {'lat': 21.00430338, 'lng': 105.84720165}, {'lat': 21.00429536, 'lng': 105.84720286}, {'lat': 21.00419352, 'lng': 105.84715948}, {'lat': 21.00419008, 'lng': 105.84715825}, {'lat': 21.00418241, 'lng': 105.84714788}, {'lat': 21.0041486, 'lng': 105.847131}, {'lat': 21.00414464, 'lng': 105.84713022}, {'lat': 21.00413217, 'lng': 105.84713122}, {'lat': 21.00410971, 'lng': 105.84711102}, {'lat': 21.00398513, 'lng': 105.84695874}, {'lat': 21.00398473, 'lng': 105.84695911}, {'lat': 21.0039575, 'lng': 105.84692627}, {'lat': 21.00394328, 'lng': 105.8469028}, {'lat': 21.00394161, 'lng': 105.84688527}, {'lat': 21.00394036, 'lng': 105.8468723}, {'lat': 21.00394827, 'lng': 105.84684387}, {'lat': 21.00414467, 'lng': 105.84664763}, {'lat': 21.00414499, 'lng': 105.84662705}, {'lat': 21.00420863, 'lng': 105.84656118}, {'lat': 21.0042737, 'lng': 105.84649961}, {'lat': 21.0043314, 'lng': 105.84644474}, {'lat': 21.00463386, 'lng': 105.84615713}, {'lat': 21.00462024, 'lng': 105.84613925}, {'lat': 21.00464512, 'lng': 105.84611463}, {'lat': 21.00464887, 'lng': 105.84611092}, {'lat': 21.00466272, 'lng': 105.84609784}, {'lat': 21.00468225, 'lng': 105.84607967}, {'lat': 21.0046721, 'lng': 105.84606674}, {'lat': 21.00464553, 'lng': 105.84603288}, {'lat': 21.00464251, 'lng': 105.84602902}, {'lat': 21.0046212, 'lng': 105.84600187}, {'lat': 21.00460004, 'lng': 105.8459749}, {'lat': 21.00457881, 'lng': 105.84594784}, {'lat': 21.00455707, 'lng': 105.84592012}, {'lat': 21.00453612, 'lng': 105.84589342}, {'lat': 21.00451452, 'lng': 105.84586589}, {'lat': 21.0044924, 'lng': 105.84583771}, {'lat': 21.00447215, 'lng': 105.84581112}, {'lat': 21.00447051, 'lng': 105.84580856}, {'lat': 21.00450993, 'lng': 105.84577399}, {'lat': 21.00454389, 'lng': 105.84574422}, {'lat': 21.00454543, 'lng': 105.84574195}, {'lat': 21.00454549, 'lng': 105.84574187}, {'lat': 21.00463342, 'lng': 105.84576984}, {'lat': 21.00463635, 'lng': 105.8457704}, {'lat': 21.00464683, 'lng': 105.84577157}, {'lat': 21.00473204, 'lng': 105.84578108}, {'lat': 21.00482328, 'lng': 105.84578655}, {'lat': 21.00492035, 'lng': 105.84579048}, {'lat': 21.00496368, 'lng': 105.84583837}, {'lat': 21.0049669, 'lng': 105.84583925}, {'lat': 21.00497046, 'lng': 105.84592416}, {'lat': 21.00496862, 'lng': 105.84630387}, {'lat': 21.00496858, 'lng': 105.84630718}, {'lat': 21.0049678, 'lng': 105.84635832}, {'lat': 21.00496747, 'lng': 105.84636477}, {'lat': 21.0049653, 'lng': 105.84642844}, {'lat': 21.00496428, 'lng': 105.84644831}, {'lat': 21.00496236, 'lng': 105.84648569}, {'lat': 21.00495669, 'lng': 105.84656088}, {'lat': 21.00495555, 'lng': 105.84656364}, {'lat': 21.00494901, 'lng': 105.84656666}], 'address': 'Thửa 2, tờ 29. Diện tích: 9478.28m²', 'id': 9390434, 'province_id': '01', 'district_id': '007', 'ward_id': '00277', 'html': '<button class=\"sqh-pin-inf__cls\"><i class=\"mdi mdi-close\" id=\"close-pin\"></i></button>\\r\\n    <div class=\"sqh-pin-inf__swrp\">\\r\\n                            <a href=\"/signin\" class=\"sqh-pin-inf__saved btn btn--blue\">\\r\\n                <span>Lưu thửa này lên bản đồ</span>\\r\\n            </a>\\r\\n                        </div>\\r\\n    <div class=\"sqh-pin-inf__wrp\">\\r\\n        <div class=\"sqh-pin-inf__tle\">Tờ <b>29</b> Thửa <b>2</b>, Diện tích\\r\\n            <b>9478.28m²</b></div>\\r\\n                    <div class=\"sqh-pin-inf__adr\">\\r\\n                <i class=\"mdi mdi-map-marker-outline\"></i>\\r\\n                <a href=\"/soi-quy-hoach/ha-noi/quan-hai-ba-trung/phuong-bach-khoa\">Phường Bách Khoa</a>\\r\\n                <a href=\"/soi-quy-hoach/ha-noi/quan-hai-ba-trung\">Quận Hai Bà Trưng</a>\\r\\n                <a href=\"/soi-quy-hoach/ha-noi\">Hà Nội</a>\\r\\n            </div>\\r\\n                                                                            <div class=\"type-info\">\\r\\n                            <div class=\"type-info__id t-sdb--dgd\">DGD</div>\\r\\n                                                        <span class=\"type-info__sqr t-sdb--dgd\">9478.28m²</span>\\r\\n                                                        <span class=\"type-info__txt\">Đất cơ sở giáo dục </span>\\r\\n                        </div>\\r\\n                                    \\r\\n                \\r\\n                <div class=\"text-row row\">\\r\\n                    <div class=\"col-12\">\\r\\n                        <div class=\"note-col\">(Dữ liệu tham khảo, vui lòng căn cứ theo màu và ký hiệu đât trên bản đồ)\\r\\n                        </div>\\r\\n                    </div>\\r\\n                </div>\\r\\n                            <form id=\"form-data-save-post\">\\r\\n                <input type=\"hidden\" name=\"lat\" value=\"21.00434925080321\">\\r\\n                <input type=\"hidden\" name=\"lng\" value=\"105.84695617246632\">\\r\\n                <input type=\"hidden\" name=\"item_id\" value=\"9390434\">\\r\\n            </form>\\r\\n            <div class=\"sqh-pin-inf__atn\">\\r\\n                <a href=\"/ky-gui?lat=21.00434925080321&lng=105.84695617246632&land_id=9390434\" class=\"btn btn-outline-blue\">\\r\\n                    <i class=\"mdi mdi-map-marker-plus-outline\"></i>\\r\\n                    <span>Đăng bán</span>\\r\\n                </a>\\r\\n                <a href=\"#Modal-ColorPalette\" data-toggle=\"modal\" class=\"btn btn-outline-blue\">\\r\\n                    <i class=\"mdi mdi-palette\"></i>\\r\\n                    <span>Ký hiệu đất</span>\\r\\n                </a>\\r\\n                <a href=\"https://www.google.com/maps/search/?api=1&query=21.00434925080321,105.84695617246632\" target=\"_blank\"\\r\\n                   class=\"btn btn-outline-blue\">\\r\\n                    <i class=\"mdi mdi-directions\"></i>\\r\\n                    <span>Chỉ đường</span>\\r\\n                </a>\\r\\n                <a href=\"#\"\\r\\n                   class=\"btn btn-outline-blue draw-border-custom\" id=\"footer-draw\">\\r\\n                    <i class=\"mdi mdi-ruler-square-compass\"></i>\\r\\n                    <span>Đo vẽ</span>\\r\\n                </a>\\r\\n            </div>\\r\\n            </div>\\r\\n', 'ext': []}, {'status': 1, 'points': [{'lat': 21.00537007, 'lng': 105.84799046}, {'lat': 21.00536977, 'lng': 105.84799046}, {'lat': 21.00535168, 'lng': 105.84799056}, {'lat': 21.00534333, 'lng': 105.84799062}, {'lat': 21.00529631, 'lng': 105.8479909}, {'lat': 21.00526922, 'lng': 105.84799105}, {'lat': 21.00524456, 'lng': 105.8479912}, {'lat': 21.00522017, 'lng': 105.84799136}, {'lat': 21.00519569, 'lng': 105.8479915}, {'lat': 21.00513614, 'lng': 105.84799186}, {'lat': 21.00512894, 'lng': 105.8479919}, {'lat': 21.00510519, 'lng': 105.84799205}, {'lat': 21.00508188, 'lng': 105.84799219}, {'lat': 21.00505469, 'lng': 105.84799234}, {'lat': 21.00503175, 'lng': 105.84799249}, {'lat': 21.00485826, 'lng': 105.84798968}, {'lat': 21.00484896, 'lng': 105.84798857}, {'lat': 21.00484417, 'lng': 105.84798807}, {'lat': 21.00484952, 'lng': 105.84786823}, {'lat': 21.00485014, 'lng': 105.84786208}, {'lat': 21.00492869, 'lng': 105.84787196}, {'lat': 21.00496417, 'lng': 105.8478805}, {'lat': 21.00507878, 'lng': 105.84789099}, {'lat': 21.00510907, 'lng': 105.84789307}, {'lat': 21.00511425, 'lng': 105.84788656}, {'lat': 21.00516798, 'lng': 105.8478914}, {'lat': 21.00520235, 'lng': 105.84789517}, {'lat': 21.00537159, 'lng': 105.84791491}, {'lat': 21.00537011, 'lng': 105.84798836}, {'lat': 21.00537007, 'lng': 105.84799046}], 'address': 'Thửa 5, tờ 31. Diện tích: 613.276m²', 'id': 9390809, 'province_id': '01', 'district_id': '007', 'ward_id': '00277', 'html': '<button class=\"sqh-pin-inf__cls\"><i class=\"mdi mdi-close\" id=\"close-pin\"></i></button>\\r\\n    <div class=\"sqh-pin-inf__swrp\">\\r\\n                            <a href=\"/signin\" class=\"sqh-pin-inf__saved btn btn--blue\">\\r\\n                <span>Lưu thửa này lên bản đồ</span>\\r\\n            </a>\\r\\n                        </div>\\r\\n    <div class=\"sqh-pin-inf__wrp\">\\r\\n        <div class=\"sqh-pin-inf__tle\">Tờ <b>31</b> Thửa <b>5</b>, Diện tích\\r\\n            <b>613.28m²</b></div>\\r\\n                    <div class=\"sqh-pin-inf__adr\">\\r\\n                <i class=\"mdi mdi-map-marker-outline\"></i>\\r\\n                <a href=\"/soi-quy-hoach/ha-noi/quan-hai-ba-trung/phuong-bach-khoa\">Phường Bách Khoa</a>\\r\\n                <a href=\"/soi-quy-hoach/ha-noi/quan-hai-ba-trung\">Quận Hai Bà Trưng</a>\\r\\n                <a href=\"/soi-quy-hoach/ha-noi\">Hà Nội</a>\\r\\n            </div>\\r\\n                                                                            <div class=\"type-info\">\\r\\n                            <div class=\"type-info__id t-sdb--dgd\">DGD</div>\\r\\n                                                        <span class=\"type-info__sqr t-sdb--dgd\">613.28m²</span>\\r\\n                                                        <span class=\"type-info__txt\">Đất cơ sở giáo dục </span>\\r\\n                        </div>\\r\\n                                    \\r\\n                \\r\\n                <div class=\"text-row row\">\\r\\n                    <div class=\"col-12\">\\r\\n                        <div class=\"note-col\">(Dữ liệu tham khảo, vui lòng căn cứ theo màu và ký hiệu đât trên bản đồ)\\r\\n                        </div>\\r\\n                    </div>\\r\\n                </div>\\r\\n                            <form id=\"form-data-save-post\">\\r\\n                <input type=\"hidden\" name=\"lat\" value=\"21.00534925080321\">\\r\\n                <input type=\"hidden\" name=\"lng\" value=\"105.84795617246633\">\\r\\n                <input type=\"hidden\" name=\"item_id\" value=\"9390809\">\\r\\n            </form>\\r\\n            <div class=\"sqh-pin-inf__atn\">\\r\\n                <a href=\"/ky-gui?lat=21.00534925080321&lng=105.84795617246633&land_id=9390809\" class=\"btn btn-outline-blue\">\\r\\n                    <i class=\"mdi mdi-map-marker-plus-outline\"></i>\\r\\n                    <span>Đăng bán</span>\\r\\n                </a>\\r\\n                <a href=\"#Modal-ColorPalette\" data-toggle=\"modal\" class=\"btn btn-outline-blue\">\\r\\n                    <i class=\"mdi mdi-palette\"></i>\\r\\n                    <span>Ký hiệu đất</span>\\r\\n                </a>\\r\\n                <a href=\"https://www.google.com/maps/search/?api=1&query=21.00534925080321,105.84795617246633\" target=\"_blank\"\\r\\n                   class=\"btn btn-outline-blue\">\\r\\n                    <i class=\"mdi mdi-directions\"></i>\\r\\n                    <span>Chỉ đường</span>\\r\\n                </a>\\r\\n                <a href=\"#\"\\r\\n                   class=\"btn btn-outline-blue draw-border-custom\" id=\"footer-draw\">\\r\\n                    <i class=\"mdi mdi-ruler-square-compass\"></i>\\r\\n                    <span>Đo vẽ</span>\\r\\n                </a>\\r\\n            </div>\\r\\n            </div>\\r\\n', 'ext': []}, {'status': 1, 'points': [{'lat': 21.00637679, 'lng': 105.84890608}, {'lat': 21.00638365, 'lng': 105.84890843}, {'lat': 21.00639376, 'lng': 105.84892801}, {'lat': 21.00639054, 'lng': 105.84893934}, {'lat': 21.00639171, 'lng': 105.84894041}, {'lat': 21.00638261, 'lng': 105.84897152}, {'lat': 21.00638631, 'lng': 105.8489726}, {'lat': 21.00638593, 'lng': 105.84897481}, {'lat': 21.00636634, 'lng': 105.84906329}, {'lat': 21.00634018, 'lng': 105.84905708}, {'lat': 21.00635906, 'lng': 105.84896619}, {'lat': 21.00632308, 'lng': 105.8489556}, {'lat': 21.00632028, 'lng': 105.84895491}, {'lat': 21.00632874, 'lng': 105.84892514}, {'lat': 21.00633597, 'lng': 105.84890546}, {'lat': 21.00637212, 'lng': 105.84891971}, {'lat': 21.00637679, 'lng': 105.84890608}], 'address': 'Thửa 23, tờ 13. Diện tích: 67.8461m²', 'id': 9362559, 'province_id': '01', 'district_id': '007', 'ward_id': '00274', 'html': '<button class=\"sqh-pin-inf__cls\"><i class=\"mdi mdi-close\" id=\"close-pin\"></i></button>\\r\\n    <div class=\"sqh-pin-inf__swrp\">\\r\\n                            <a href=\"/signin\" class=\"sqh-pin-inf__saved btn btn--blue\">\\r\\n                <span>Lưu thửa này lên bản đồ</span>\\r\\n            </a>\\r\\n                        </div>\\r\\n    <div class=\"sqh-pin-inf__wrp\">\\r\\n        <div class=\"sqh-pin-inf__tle\">Tờ <b>13</b> Thửa <b>23</b>, Diện tích\\r\\n            <b>67.85m²</b></div>\\r\\n                    <div class=\"sqh-pin-inf__adr\">\\r\\n                <i class=\"mdi mdi-map-marker-outline\"></i>\\r\\n                <a href=\"/soi-quy-hoach/ha-noi/quan-hai-ba-trung/phuong-cau-den\">Phường Cầu Dền</a>\\r\\n                <a href=\"/soi-quy-hoach/ha-noi/quan-hai-ba-trung\">Quận Hai Bà Trưng</a>\\r\\n                <a href=\"/soi-quy-hoach/ha-noi\">Hà Nội</a>\\r\\n            </div>\\r\\n                                                                            <div class=\"type-info\">\\r\\n                            <div class=\"type-info__id t-sdb--odt\">ODT</div>\\r\\n                                                        <span class=\"type-info__sqr t-sdb--odt\">67.85m²</span>\\r\\n                                                        <span class=\"type-info__txt\">Đất ở tại đô thị</span>\\r\\n                        </div>\\r\\n                                    \\r\\n                \\r\\n                <div class=\"text-row row\">\\r\\n                    <div class=\"col-12\">\\r\\n                        <div class=\"note-col\">(Dữ liệu tham khảo, vui lòng căn cứ theo màu và ký hiệu đât trên bản đồ)\\r\\n                        </div>\\r\\n                    </div>\\r\\n                </div>\\r\\n                            <form id=\"form-data-save-post\">\\r\\n                <input type=\"hidden\" name=\"lat\" value=\"21.00634925080321\">\\r\\n                <input type=\"hidden\" name=\"lng\" value=\"105.84895617246633\">\\r\\n                <input type=\"hidden\" name=\"item_id\" value=\"9362559\">\\r\\n            </form>\\r\\n            <div class=\"sqh-pin-inf__atn\">\\r\\n                <a href=\"/ky-gui?lat=21.00634925080321&lng=105.84895617246633&land_id=9362559\" class=\"btn btn-outline-blue\">\\r\\n                    <i class=\"mdi mdi-map-marker-plus-outline\"></i>\\r\\n                    <span>Đăng bán</span>\\r\\n                </a>\\r\\n                <a href=\"#Modal-ColorPalette\" data-toggle=\"modal\" class=\"btn btn-outline-blue\">\\r\\n                    <i class=\"mdi mdi-palette\"></i>\\r\\n                    <span>Ký hiệu đất</span>\\r\\n                </a>\\r\\n                <a href=\"https://www.google.com/maps/search/?api=1&query=21.00634925080321,105.84895617246633\" target=\"_blank\"\\r\\n                   class=\"btn btn-outline-blue\">\\r\\n                    <i class=\"mdi mdi-directions\"></i>\\r\\n                    <span>Chỉ đường</span>\\r\\n                </a>\\r\\n                <a href=\"#\"\\r\\n                   class=\"btn btn-outline-blue draw-border-custom\" id=\"footer-draw\">\\r\\n                    <i class=\"mdi mdi-ruler-square-compass\"></i>\\r\\n                    <span>Đo vẽ</span>\\r\\n                </a>\\r\\n            </div>\\r\\n            </div>\\r\\n', 'ext': []}, {'status': 1, 'points': [{'lat': 21.00739866, 'lng': 105.84994521}, {'lat': 21.00739359, 'lng': 105.84994835}, {'lat': 21.00731289, 'lng': 105.84999214}, {'lat': 21.00731824, 'lng': 105.84995303}, {'lat': 21.00738381, 'lng': 105.84991665}, {'lat': 21.00739866, 'lng': 105.84994521}], 'address': 'Thửa 106, tờ 5. Diện tích: 31.9327m²', 'id': 9379617, 'province_id': '01', 'district_id': '007', 'ward_id': '00274', 'html': '<button class=\"sqh-pin-inf__cls\"><i class=\"mdi mdi-close\" id=\"close-pin\"></i></button>\\r\\n    <div class=\"sqh-pin-inf__swrp\">\\r\\n                            <a href=\"/signin\" class=\"sqh-pin-inf__saved btn btn--blue\">\\r\\n                <span>Lưu thửa này lên bản đồ</span>\\r\\n            </a>\\r\\n                        </div>\\r\\n    <div class=\"sqh-pin-inf__wrp\">\\r\\n        <div class=\"sqh-pin-inf__tle\">Tờ <b>5</b> Thửa <b>106</b>, Diện tích\\r\\n            <b>31.93m²</b></div>\\r\\n                    <div class=\"sqh-pin-inf__adr\">\\r\\n                <i class=\"mdi mdi-map-marker-outline\"></i>\\r\\n                <a href=\"/soi-quy-hoach/ha-noi/quan-hai-ba-trung/phuong-cau-den\">Phường Cầu Dền</a>\\r\\n                <a href=\"/soi-quy-hoach/ha-noi/quan-hai-ba-trung\">Quận Hai Bà Trưng</a>\\r\\n                <a href=\"/soi-quy-hoach/ha-noi\">Hà Nội</a>\\r\\n            </div>\\r\\n                                                                            <div class=\"type-info\">\\r\\n                            <div class=\"type-info__id t-sdb--odt\">ODT</div>\\r\\n                                                        <span class=\"type-info__sqr t-sdb--odt\">31.93m²</span>\\r\\n                                                        <span class=\"type-info__txt\">Đất ở tại đô thị</span>\\r\\n                        </div>\\r\\n                                    \\r\\n                \\r\\n                <div class=\"text-row row\">\\r\\n                    <div class=\"col-12\">\\r\\n                        <div class=\"note-col\">(Dữ liệu tham khảo, vui lòng căn cứ theo màu và ký hiệu đât trên bản đồ)\\r\\n                        </div>\\r\\n                    </div>\\r\\n                </div>\\r\\n                            <form id=\"form-data-save-post\">\\r\\n                <input type=\"hidden\" name=\"lat\" value=\"21.007349250803212\">\\r\\n                <input type=\"hidden\" name=\"lng\" value=\"105.84995617246634\">\\r\\n                <input type=\"hidden\" name=\"item_id\" value=\"9379617\">\\r\\n            </form>\\r\\n            <div class=\"sqh-pin-inf__atn\">\\r\\n                <a href=\"/ky-gui?lat=21.007349250803212&lng=105.84995617246634&land_id=9379617\" class=\"btn btn-outline-blue\">\\r\\n                    <i class=\"mdi mdi-map-marker-plus-outline\"></i>\\r\\n                    <span>Đăng bán</span>\\r\\n                </a>\\r\\n                <a href=\"#Modal-ColorPalette\" data-toggle=\"modal\" class=\"btn btn-outline-blue\">\\r\\n                    <i class=\"mdi mdi-palette\"></i>\\r\\n                    <span>Ký hiệu đất</span>\\r\\n                </a>\\r\\n                <a href=\"https://www.google.com/maps/search/?api=1&query=21.007349250803212,105.84995617246634\" target=\"_blank\"\\r\\n                   class=\"btn btn-outline-blue\">\\r\\n                    <i class=\"mdi mdi-directions\"></i>\\r\\n                    <span>Chỉ đường</span>\\r\\n                </a>\\r\\n                <a href=\"#\"\\r\\n                   class=\"btn btn-outline-blue draw-border-custom\" id=\"footer-draw\">\\r\\n                    <i class=\"mdi mdi-ruler-square-compass\"></i>\\r\\n                    <span>Đo vẽ</span>\\r\\n                </a>\\r\\n            </div>\\r\\n            </div>\\r\\n', 'ext': []}, {'status': 1, 'points': None, 'address': 'Phường Cầu Dền, Quận Hai Bà Trưng, Hà Nội', 'id': None, 'province_id': '01', 'district_id': '007', 'ward_id': '00274', 'html': '<button class=\"sqh-pin-inf__cls\"><i class=\"mdi mdi-close\" id=\"close-pin\"></i></button>\\r\\n    <div class=\"sqh-pin-inf__swrp\">\\r\\n                            <a href=\"/signin\" class=\"sqh-pin-inf__saved btn btn--blue\">\\r\\n                <span class=\"currency-usd-txt\">$</span>\\r\\n                <svg viewBox=\"0 0 24 24\">\\r\\n                    <path d=\"M20 14H14V20H10V14H4V10H10V4H14V10H20V14Z\"/>\\r\\n                </svg>\\r\\n                <span>Lưu thửa này lên bản đồ</span>\\r\\n            </a>\\r\\n                        </div>\\r\\n    <div class=\"sqh-pin-inf__wrp\">\\r\\n        <div class=\"sqh-pin-inf__tle\">Vị trí đã ghim</div>\\r\\n                    <div class=\"sqh-pin-inf__adr\">\\r\\n                <i class=\"mdi mdi-map-marker-outline\"></i>\\r\\n                <a href=\"/soi-quy-hoach/ha-noi/quan-hai-ba-trung/phuong-cau-den\">Phường Cầu Dền</a>\\r\\n                <a href=\"/soi-quy-hoach/ha-noi/quan-hai-ba-trung\">Quận Hai Bà Trưng</a>\\r\\n                <a href=\"/soi-quy-hoach/ha-noi\">Hà Nội</a>\\r\\n            </div>\\r\\n        \\r\\n        <div class=\"sqh-pin-inf__atn\">\\r\\n                            <form id=\"form-data-save-post\">\\r\\n                    <input type=\"hidden\" name=\"lat\" value=\"21.008349250803214\">\\r\\n                    <input type=\"hidden\" name=\"lng\" value=\"105.85095617246634\">\\r\\n                </form>\\r\\n                <a href=\"/ky-gui?lat=21.008349250803214&lng=105.85095617246634\" class=\"btn btn-outline-blue\">\\r\\n                    <i class=\"mdi mdi-map-marker-plus-outline\"></i>\\r\\n                    <span>Đăng bán</span>\\r\\n                </a>\\r\\n                <a href=\"#Modal-ColorPalette\" data-toggle=\"modal\" class=\"btn btn-outline-blue\">\\r\\n                    <i class=\"mdi mdi-palette\"></i>\\r\\n                    <span>Ký hiệu đất</span>\\r\\n                </a>\\r\\n                <a href=\"https://www.google.com/maps/search/?api=1&query=21.008349250803214,105.85095617246634\" target=\"_blank\"\\r\\n                   class=\"btn btn-outline-blue\">\\r\\n                    <i class=\"mdi mdi-directions\"></i>\\r\\n                    <span>Chỉ đường</span>\\r\\n                </a>\\r\\n                <a href=\"#\"\\r\\n                   class=\"btn btn-outline-blue draw-border-custom\" id=\"footer-draw\">\\r\\n                    <i class=\"mdi mdi-ruler-square-compass\"></i>\\r\\n                    <span>Đo vẽ</span>\\r\\n                </a>\\r\\n\\r\\n                    </div>\\r\\n    </div>\\r\\n', 'ext': None}, {'status': 1, 'points': [{'lat': 21.00934249, 'lng': 105.8519684}, {'lat': 21.00933494, 'lng': 105.8519421}, {'lat': 21.00934651, 'lng': 105.85194101}, {'lat': 21.00934846, 'lng': 105.85194728}, {'lat': 21.00935326, 'lng': 105.85194615}, {'lat': 21.00935859, 'lng': 105.85196359}, {'lat': 21.00934249, 'lng': 105.8519684}], 'address': 'Thửa 63, tờ 23. Diện tích: 4.55901m²', 'id': 9494172, 'province_id': '01', 'district_id': '007', 'ward_id': '00262', 'html': '<button class=\"sqh-pin-inf__cls\"><i class=\"mdi mdi-close\" id=\"close-pin\"></i></button>\\r\\n    <div class=\"sqh-pin-inf__swrp\">\\r\\n                            <a href=\"/signin\" class=\"sqh-pin-inf__saved btn btn--blue\">\\r\\n                <span>Lưu thửa này lên bản đồ</span>\\r\\n            </a>\\r\\n                        </div>\\r\\n    <div class=\"sqh-pin-inf__wrp\">\\r\\n        <div class=\"sqh-pin-inf__tle\">Tờ <b>23</b> Thửa <b>63</b>, Diện tích\\r\\n            <b>4.56m²</b></div>\\r\\n                    <div class=\"sqh-pin-inf__adr\">\\r\\n                <i class=\"mdi mdi-map-marker-outline\"></i>\\r\\n                <a href=\"/soi-quy-hoach/ha-noi/quan-hai-ba-trung/phuong-pho-hue\">Phường Phố Huế</a>\\r\\n                <a href=\"/soi-quy-hoach/ha-noi/quan-hai-ba-trung\">Quận Hai Bà Trưng</a>\\r\\n                <a href=\"/soi-quy-hoach/ha-noi\">Hà Nội</a>\\r\\n            </div>\\r\\n                                                                            <div class=\"type-info\">\\r\\n                            <div class=\"type-info__id t-sdb--odt\">ODT</div>\\r\\n                                                        <span class=\"type-info__sqr t-sdb--odt\">4.56m²</span>\\r\\n                                                        <span class=\"type-info__txt\">Đất ở tại đô thị</span>\\r\\n                        </div>\\r\\n                                    \\r\\n                \\r\\n                <div class=\"text-row row\">\\r\\n                    <div class=\"col-12\">\\r\\n                        <div class=\"note-col\">(Dữ liệu tham khảo, vui lòng căn cứ theo màu và ký hiệu đât trên bản đồ)\\r\\n                        </div>\\r\\n                    </div>\\r\\n                </div>\\r\\n                            <form id=\"form-data-save-post\">\\r\\n                <input type=\"hidden\" name=\"lat\" value=\"21.009349250803215\">\\r\\n                <input type=\"hidden\" name=\"lng\" value=\"105.85195617246634\">\\r\\n                <input type=\"hidden\" name=\"item_id\" value=\"9494172\">\\r\\n            </form>\\r\\n            <div class=\"sqh-pin-inf__atn\">\\r\\n                <a href=\"/ky-gui?lat=21.009349250803215&lng=105.85195617246634&land_id=9494172\" class=\"btn btn-outline-blue\">\\r\\n                    <i class=\"mdi mdi-map-marker-plus-outline\"></i>\\r\\n                    <span>Đăng bán</span>\\r\\n                </a>\\r\\n                <a href=\"#Modal-ColorPalette\" data-toggle=\"modal\" class=\"btn btn-outline-blue\">\\r\\n                    <i class=\"mdi mdi-palette\"></i>\\r\\n                    <span>Ký hiệu đất</span>\\r\\n                </a>\\r\\n                <a href=\"https://www.google.com/maps/search/?api=1&query=21.009349250803215,105.85195617246634\" target=\"_blank\"\\r\\n                   class=\"btn btn-outline-blue\">\\r\\n                    <i class=\"mdi mdi-directions\"></i>\\r\\n                    <span>Chỉ đường</span>\\r\\n                </a>\\r\\n                <a href=\"#\"\\r\\n                   class=\"btn btn-outline-blue draw-border-custom\" id=\"footer-draw\">\\r\\n                    <i class=\"mdi mdi-ruler-square-compass\"></i>\\r\\n                    <span>Đo vẽ</span>\\r\\n                </a>\\r\\n            </div>\\r\\n            </div>\\r\\n', 'ext': []}, {'status': 1, 'points': [{'lat': 21.01032794, 'lng': 105.85288097}, {'lat': 21.01036453, 'lng': 105.85287878}, {'lat': 21.01036589, 'lng': 105.85294977}, {'lat': 21.01036571, 'lng': 105.85296757}, {'lat': 21.01035704, 'lng': 105.85296675}, {'lat': 21.01033889, 'lng': 105.85296665}, {'lat': 21.01033645, 'lng': 105.8529295}, {'lat': 21.01033022, 'lng': 105.85293014}, {'lat': 21.01032794, 'lng': 105.85288097}], 'address': 'Thửa 121, tờ 18. Diện tích: 32.6405m²', 'id': 9488746, 'province_id': '01', 'district_id': '007', 'ward_id': '00262', 'html': '<button class=\"sqh-pin-inf__cls\"><i class=\"mdi mdi-close\" id=\"close-pin\"></i></button>\\r\\n    <div class=\"sqh-pin-inf__swrp\">\\r\\n                            <a href=\"/signin\" class=\"sqh-pin-inf__saved btn btn--blue\">\\r\\n                <span>Lưu thửa này lên bản đồ</span>\\r\\n            </a>\\r\\n                        </div>\\r\\n    <div class=\"sqh-pin-inf__wrp\">\\r\\n        <div class=\"sqh-pin-inf__tle\">Tờ <b>18</b> Thửa <b>121</b>, Diện tích\\r\\n            <b>32.64m²</b></div>\\r\\n                    <div class=\"sqh-pin-inf__adr\">\\r\\n                <i class=\"mdi mdi-map-marker-outline\"></i>\\r\\n                <a href=\"/soi-quy-hoach/ha-noi/quan-hai-ba-trung/phuong-pho-hue\">Phường Phố Huế</a>\\r\\n                <a href=\"/soi-quy-hoach/ha-noi/quan-hai-ba-trung\">Quận Hai Bà Trưng</a>\\r\\n                <a href=\"/soi-quy-hoach/ha-noi\">Hà Nội</a>\\r\\n            </div>\\r\\n                                                                            <div class=\"type-info\">\\r\\n                            <div class=\"type-info__id t-sdb--odt\">ODT</div>\\r\\n                                                        <span class=\"type-info__sqr t-sdb--odt\">32.64m²</span>\\r\\n                                                        <span class=\"type-info__txt\">Đất ở tại đô thị</span>\\r\\n                        </div>\\r\\n                                    \\r\\n                \\r\\n                <div class=\"text-row row\">\\r\\n                    <div class=\"col-12\">\\r\\n                        <div class=\"note-col\">(Dữ liệu tham khảo, vui lòng căn cứ theo màu và ký hiệu đât trên bản đồ)\\r\\n                        </div>\\r\\n                    </div>\\r\\n                </div>\\r\\n                            <form id=\"form-data-save-post\">\\r\\n                <input type=\"hidden\" name=\"lat\" value=\"21.010349250803216\">\\r\\n                <input type=\"hidden\" name=\"lng\" value=\"105.85295617246635\">\\r\\n                <input type=\"hidden\" name=\"item_id\" value=\"9488746\">\\r\\n            </form>\\r\\n            <div class=\"sqh-pin-inf__atn\">\\r\\n                <a href=\"/ky-gui?lat=21.010349250803216&lng=105.85295617246635&land_id=9488746\" class=\"btn btn-outline-blue\">\\r\\n                    <i class=\"mdi mdi-map-marker-plus-outline\"></i>\\r\\n                    <span>Đăng bán</span>\\r\\n                </a>\\r\\n                <a href=\"#Modal-ColorPalette\" data-toggle=\"modal\" class=\"btn btn-outline-blue\">\\r\\n                    <i class=\"mdi mdi-palette\"></i>\\r\\n                    <span>Ký hiệu đất</span>\\r\\n                </a>\\r\\n                <a href=\"https://www.google.com/maps/search/?api=1&query=21.010349250803216,105.85295617246635\" target=\"_blank\"\\r\\n                   class=\"btn btn-outline-blue\">\\r\\n                    <i class=\"mdi mdi-directions\"></i>\\r\\n                    <span>Chỉ đường</span>\\r\\n                </a>\\r\\n                <a href=\"#\"\\r\\n                   class=\"btn btn-outline-blue draw-border-custom\" id=\"footer-draw\">\\r\\n                    <i class=\"mdi mdi-ruler-square-compass\"></i>\\r\\n                    <span>Đo vẽ</span>\\r\\n                </a>\\r\\n            </div>\\r\\n            </div>\\r\\n', 'ext': []}]\n"
     ]
    }
   ],
   "source": [
    "p2_lat, p2_lon = 21.001349250803205, 105.8439561724663\n",
    "province_id = '01' #ha noi\n",
    "results = []\n",
    "\n",
    "lat, lon = p2_lat, p2_lon #hanoi\n",
    "\n",
    "for i in range(10):\n",
    "    response_data = fetch_data(lat, lon, province_id)\n",
    "    data = init_data_model()\n",
    "    data = process_data(response_data)\n",
    "    results.append(data)\n",
    "    lat += 0.001\n",
    "    lon += 0.001\n",
    "    time.sleep(0.5)\n",
    "print(results)"
   ]
  },
  {
   "cell_type": "code",
   "execution_count": 10,
   "metadata": {},
   "outputs": [
    {
     "name": "stdout",
     "output_type": "stream",
     "text": [
      "0 Thửa 95, tờ 17. Diện tích: 116.49m²\n",
      "1 Thửa 34, tờ 46. Diện tích: 84.0411m²\n",
      "2 Thửa 79, tờ 41. Diện tích: 59.2507m²\n",
      "3 Thửa 2, tờ 29. Diện tích: 9478.28m²\n",
      "4 Thửa 5, tờ 31. Diện tích: 613.276m²\n",
      "5 Thửa 23, tờ 13. Diện tích: 67.8461m²\n",
      "6 Thửa 106, tờ 5. Diện tích: 31.9327m²\n",
      "7 Phường Cầu Dền, Quận Hai Bà Trưng, Hà Nội\n",
      "8 Thửa 63, tờ 23. Diện tích: 4.55901m²\n",
      "9 Thửa 121, tờ 18. Diện tích: 32.6405m²\n"
     ]
    }
   ],
   "source": [
    "for i, item in enumerate(results):\n",
    "    # print(item.keys())\n",
    "    print(i, item['address'])"
   ]
  },
  {
   "cell_type": "code",
   "execution_count": null,
   "metadata": {},
   "outputs": [],
   "source": []
  },
  {
   "cell_type": "code",
   "execution_count": 22,
   "metadata": {},
   "outputs": [
    {
     "name": "stdout",
     "output_type": "stream",
     "text": [
      "Status Code: 200\n",
      "\n",
      "Response Content:\n",
      "{\"status\":1,\"points\":[{\"lat\":10.786156999999999,\"lng\":106.700183},{\"lat\":10.786128,\"lng\":106.700152},{\"lat\":10.786146,\"lng\":106.700132},{\"lat\":10.786177,\"lng\":106.70016200000001},{\"lat\":10.786156999999999,\"lng\":106.700183}],\"address\":\"Th\\u1eeda 31, t\\u1edd 49. Di\\u1ec7n t\\u00edch: 14.58m\\u00b2\",\"id\":3763792,\"province_id\":\"79\",\"district_id\":\"760\",\"ward_id\":\"26737\",\"html\":\"<button class=\\\"sqh-pin-inf__cls\\\"><i class=\\\"mdi mdi-close\\\" id=\\\"close-pin\\\"><\\/i><\\/button>\\r\\n    <div class=\\\"sqh-pin-inf__swrp\\\">\\r\\n                            <a href=\\\"\\/signin\\\" class=\\\"sqh-pin-inf__saved btn btn--blue\\\">\\r\\n                <span>L\\u01b0u th\\u1eeda n\\u00e0y l\\u00ean b\\u1ea3n \\u0111\\u1ed3<\\/span>\\r\\n            <\\/a>\\r\\n                        <\\/div>\\r\\n    <div class=\\\"sqh-pin-inf__wrp\\\">\\r\\n        <div class=\\\"sqh-pin-inf__tle\\\">T\\u1edd <b>49<\\/b> Th\\u1eeda <b>31<\\/b>, Di\\u1ec7n t\\u00edch\\r\\n            <b>14.58m\\u00b2<\\/b><\\/div>\\r\\n                    <div class=\\\"sqh-pin-inf__adr\\\">\\r\\n                <i class=\\\"mdi mdi-map-marker-outline\\\"><\\/i>\\r\\n                <a href=\\\"\\/soi-quy-hoach\\/tp-ho-chi-minh\\/quan-1\\/phuong-da-kao\\\">Ph\\u01b0\\u1eddng \\u0110a Kao<\\/a>\\r\\n                <a href=\\\"\\/soi-quy-hoach\\/tp-ho-chi-minh\\/quan-1\\\">Qu\\u1eadn 1<\\/a>\\r\\n                <a href=\\\"\\/soi-quy-hoach\\/tp-ho-chi-minh\\\">TP. H\\u1ed3 Ch\\u00ed Minh<\\/a>\\r\\n            <\\/div>\\r\\n                                                                            <div class=\\\"type-info\\\">\\r\\n                            <div class=\\\"type-info__id t-sdb--odt\\\">ODT<\\/div>\\r\\n                                                        <span class=\\\"type-info__sqr t-sdb--odt\\\">14.6m\\u00b2<\\/span>\\r\\n                                                        <span class=\\\"type-info__txt\\\">\\u0110\\u1ea5t \\u1edf t\\u1ea1i \\u0111\\u00f4 th\\u1ecb<\\/span>\\r\\n                        <\\/div>\\r\\n                                    \\r\\n                \\r\\n                <div class=\\\"text-row row\\\">\\r\\n                    <div class=\\\"col-12\\\">\\r\\n                        <div class=\\\"note-col\\\">(D\\u1eef li\\u1ec7u tham kh\\u1ea3o, vui l\\u00f2ng c\\u0103n c\\u1ee9 theo m\\u00e0u v\\u00e0 k\\u00fd hi\\u1ec7u \\u0111\\u00e2t tr\\u00ean b\\u1ea3n \\u0111\\u1ed3)\\r\\n                        <\\/div>\\r\\n                    <\\/div>\\r\\n                <\\/div>\\r\\n                            <form id=\\\"form-data-save-post\\\">\\r\\n                <input type=\\\"hidden\\\" name=\\\"lat\\\" value=\\\"10.78615734346311\\\">\\r\\n                <input type=\\\"hidden\\\" name=\\\"lng\\\" value=\\\"106.7001578019138\\\">\\r\\n                <input type=\\\"hidden\\\" name=\\\"item_id\\\" value=\\\"3763792\\\">\\r\\n            <\\/form>\\r\\n            <div class=\\\"sqh-pin-inf__atn\\\">\\r\\n                <a href=\\\"\\/ky-gui?lat=10.78615734346311&lng=106.7001578019138&land_id=3763792\\\" class=\\\"btn btn-outline-blue\\\">\\r\\n                    <i class=\\\"mdi mdi-map-marker-plus-outline\\\"><\\/i>\\r\\n                    <span>\\u0110\\u0103ng b\\u00e1n<\\/span>\\r\\n                <\\/a>\\r\\n                <a href=\\\"#Modal-ColorPalette\\\" data-toggle=\\\"modal\\\" class=\\\"btn btn-outline-blue\\\">\\r\\n                    <i class=\\\"mdi mdi-palette\\\"><\\/i>\\r\\n                    <span>K\\u00fd hi\\u1ec7u \\u0111\\u1ea5t<\\/span>\\r\\n                <\\/a>\\r\\n                <a href=\\\"https:\\/\\/www.google.com\\/maps\\/search\\/?api=1&query=10.78615734346311,106.7001578019138\\\" target=\\\"_blank\\\"\\r\\n                   class=\\\"btn btn-outline-blue\\\">\\r\\n                    <i class=\\\"mdi mdi-directions\\\"><\\/i>\\r\\n                    <span>Ch\\u1ec9 \\u0111\\u01b0\\u1eddng<\\/span>\\r\\n                <\\/a>\\r\\n                <a href=\\\"#\\\"\\r\\n                   class=\\\"btn btn-outline-blue draw-border-custom\\\" id=\\\"footer-draw\\\">\\r\\n                    <i class=\\\"mdi mdi-ruler-square-compass\\\"><\\/i>\\r\\n                    <span>\\u0110o v\\u1ebd<\\/span>\\r\\n                <\\/a>\\r\\n            <\\/div>\\r\\n            <\\/div>\\r\\n\",\"ext\":[]}\n"
     ]
    }
   ],
   "source": [
    "data = []\n",
    "lat, lon = 21.022366641825993, 105.83043515682222\n",
    "lat, lon = 10.78615734346311, 106.7001578019138\n",
    "\n",
    "for i in range(1):\n",
    "    url = 'https://guland.vn/get-bound-2'\n",
    "    params = {\n",
    "        'marker_lat': f'{lat}',\n",
    "        'marker_lng': f'{lon}',\n",
    "        'province_id': '01'\n",
    "    }    \n",
    "    headers = {\n",
    "        'Accept': '*/*',\n",
    "        'Accept-Encoding': 'gzip, deflate, br, zstd',\n",
    "        'Accept-Language': 'en-US,en;q=0.9',\n",
    "        'Connection': 'keep-alive',\n",
    "        'Cookie': 'is_show_free=eyJpdiI6IjE1aEYxaytJMnhBWTNYa2s5Vi83U2c9PSIsInZhbHVlIjoiT1dCeXJLSWJCREdpTDlWZ3NLUkVkSEduTGcrL0IwZkRvbVNoYW10bWxsUHZBdHNsbFRoQmFYd1N0MzJZVmJHRVFraXVaejNYSTZ3RzN0djJBQ0JaMGc9PSIsIm1hYyI6ImMxNGE5ODZkNGZhZTAzNDkwMjNlZTliNDUxNjgzMDRiMTA2ZDZhYjVjZDk5NDQ4ZWMyYzIwMjEwYTFkYWE1NzYifQ%3D%3D; affiliate_phone=eyJpdiI6IldkMGNqRWh2VDJoeVc3U3pHYWp6SWc9PSIsInZhbHVlIjoiejFVOVA3d2M3eHVENzlVaS9tU1pYVWRJQWZvUHY0dXVaakFKRStYOGZVblRyWEczN2RNcU9XQ1VhQnMvVVUvdVVPYUVUOXp4am1CWEpaWTlwSjFwQVE9PSIsIm1hYyI6IjRhNjkyYzYxZTdlNWUxZWJiYzU2YjI3Y2E3OTIwNDViNzA0MjhiZWVhNGQ0YzRmYzg3NmE0M2Q2ZmU0MjlhNzUifQ%3D%3D; affiliate_id=eyJpdiI6IjRVWkxWVDNpcmI2RDRqYldLNDd1MGc9PSIsInZhbHVlIjoiL0JIeVdiMmxWQ2ZJcjdoVjlYWUZpTDhoTzdBTGJZUVljY2dOL3Z4dnpCZHJubW1TWlJGUEg4MHduVnIrMVUrWCIsIm1hYyI6IjkzNmU3ZWJiODlhNmY1YTYzODk0ZTY4MTA2OTNjNzA1NGFjYzUzYjVkYzE0YmU2ZDIzNGJmZTcwNzcwM2ZkZDgifQ%3D%3D; XSRF-TOKEN=eyJpdiI6IkVtWkUvQVY0a21NNmpxV252SlNVTnc9PSIsInZhbHVlIjoibzc3S1dVc2FwT2d2VzlUM29SMU1rbUZGWlZQN2RETzRzT0o3NVBSVDlUYU1yWnJjMVZGaDhoL1oxbTRDRUxFczBya3Q0VFFkZHNYRXYzRjMyalIvdFp1WmdMT3pvSWZYdXZSdWtlSm9RK1kydWNzbG02cm9jR2lvalBSMytQSFIiLCJtYWMiOiI5ZDg3ZjQzODNiZjdlMTg1MmVlMjU5N2M0YTc4NTFmYzNhNzM1MzBkODc3MzAyY2RkM2ZhYjA1M2Q5Y2JkNTkxIn0%3D; laravel_session=eyJpdiI6IlNvcmI2aXJWdG42MEZ4S08rL0E1Vmc9PSIsInZhbHVlIjoiTHU2bnhYMGRkbFl0a2dHZWxNRlhjNHhSdHZTV25uK0VnZTl2ajdPRU14ekNyck9rQzd1c00zM21lUlRFR0dBelY3bnN5SXE3UmV4S1ROUTkxRFE0NkFXN20xY251aFlMWi8zN2txZzhhWHU4QWpWZTZtL0NLMGpaRDVjQ3NycGwiLCJtYWMiOiI4Nzc4YjA5ZGJjODM2MTM0NjkwY2Y3M2RiNzZlYWU2MDNlMzRiZWVmODI0MzM3MDc1NTY0NDAyMTYyZWQzOTYxIn0%3D',\n",
    "        'DNT': '1',\n",
    "        'Host': 'guland.vn',\n",
    "        'Referer': 'https://guland.vn/soi-quy-hoach',\n",
    "        'Sec-Fetch-Dest': 'empty',\n",
    "        'Sec-Fetch-Mode': 'cors',\n",
    "        'Sec-Fetch-Site': 'same-origin',\n",
    "        'User-Agent': 'Mozilla/5.0 (Windows NT 10.0; Win64; x64) AppleWebKit/537.36 (KHTML, like Gecko) Chrome/126.0.0.0 Safari/537.36',\n",
    "        'X-CSRF-Token': 'LhjdMtU8PdRlQfVntxVJb6orlj6YltppGjD53MaN',\n",
    "        'X-Requested-With': 'XMLHttpRequest',\n",
    "        'sec-ch-ua': '\"Not/A)Brand\";v=\"8\", \"Chromium\";v=\"126\", \"Google Chrome\";v=\"126\"',\n",
    "        'sec-ch-ua-mobile': '?0',\n",
    "        'sec-ch-ua-platform': '\"Windows\"'\n",
    "    }\n",
    "\n",
    "    try:\n",
    "        response = requests.get(url, params=params, headers=headers)\n",
    "        response.raise_for_status()  # Raises an HTTPError for bad responses (4xx or 5xx)\n",
    "        \n",
    "        print(f\"Status Code: {response.status_code}\")\n",
    "        # print(\"Response Headers:\")\n",
    "        # for key, value in response.headers.items():\n",
    "            # print(f\"{key}: {value}\")\n",
    "        print(\"\\nResponse Content:\")\n",
    "        print(response.text)\n",
    "        data.append(response)\n",
    "\n",
    "    except requests.exceptions.RequestException as e:\n",
    "        print(f\"An error occurred: {e}\")\n",
    "    finally:        \n",
    "        lat += 0.001\n",
    "        lon += 0.001\n"
   ]
  },
  {
   "cell_type": "code",
   "execution_count": 23,
   "metadata": {},
   "outputs": [
    {
     "data": {
      "text/plain": [
       "{'status': 1,\n",
       " 'points': [{'lat': 10.786157, 'lng': 106.700183},\n",
       "  {'lat': 10.786128, 'lng': 106.700152},\n",
       "  {'lat': 10.786146, 'lng': 106.700132},\n",
       "  {'lat': 10.786177, 'lng': 106.700162},\n",
       "  {'lat': 10.786157, 'lng': 106.700183}],\n",
       " 'address': 'Thửa 31, tờ 49. Diện tích: 14.58m²',\n",
       " 'id': 3763792,\n",
       " 'province_id': '79',\n",
       " 'district_id': '760',\n",
       " 'ward_id': '26737',\n",
       " 'html': '<button class=\"sqh-pin-inf__cls\"><i class=\"mdi mdi-close\" id=\"close-pin\"></i></button>\\r\\n    <div class=\"sqh-pin-inf__swrp\">\\r\\n                            <a href=\"/signin\" class=\"sqh-pin-inf__saved btn btn--blue\">\\r\\n                <span>Lưu thửa này lên bản đồ</span>\\r\\n            </a>\\r\\n                        </div>\\r\\n    <div class=\"sqh-pin-inf__wrp\">\\r\\n        <div class=\"sqh-pin-inf__tle\">Tờ <b>49</b> Thửa <b>31</b>, Diện tích\\r\\n            <b>14.58m²</b></div>\\r\\n                    <div class=\"sqh-pin-inf__adr\">\\r\\n                <i class=\"mdi mdi-map-marker-outline\"></i>\\r\\n                <a href=\"/soi-quy-hoach/tp-ho-chi-minh/quan-1/phuong-da-kao\">Phường Đa Kao</a>\\r\\n                <a href=\"/soi-quy-hoach/tp-ho-chi-minh/quan-1\">Quận 1</a>\\r\\n                <a href=\"/soi-quy-hoach/tp-ho-chi-minh\">TP. Hồ Chí Minh</a>\\r\\n            </div>\\r\\n                                                                            <div class=\"type-info\">\\r\\n                            <div class=\"type-info__id t-sdb--odt\">ODT</div>\\r\\n                                                        <span class=\"type-info__sqr t-sdb--odt\">14.6m²</span>\\r\\n                                                        <span class=\"type-info__txt\">Đất ở tại đô thị</span>\\r\\n                        </div>\\r\\n                                    \\r\\n                \\r\\n                <div class=\"text-row row\">\\r\\n                    <div class=\"col-12\">\\r\\n                        <div class=\"note-col\">(Dữ liệu tham khảo, vui lòng căn cứ theo màu và ký hiệu đât trên bản đồ)\\r\\n                        </div>\\r\\n                    </div>\\r\\n                </div>\\r\\n                            <form id=\"form-data-save-post\">\\r\\n                <input type=\"hidden\" name=\"lat\" value=\"10.78615734346311\">\\r\\n                <input type=\"hidden\" name=\"lng\" value=\"106.7001578019138\">\\r\\n                <input type=\"hidden\" name=\"item_id\" value=\"3763792\">\\r\\n            </form>\\r\\n            <div class=\"sqh-pin-inf__atn\">\\r\\n                <a href=\"/ky-gui?lat=10.78615734346311&lng=106.7001578019138&land_id=3763792\" class=\"btn btn-outline-blue\">\\r\\n                    <i class=\"mdi mdi-map-marker-plus-outline\"></i>\\r\\n                    <span>Đăng bán</span>\\r\\n                </a>\\r\\n                <a href=\"#Modal-ColorPalette\" data-toggle=\"modal\" class=\"btn btn-outline-blue\">\\r\\n                    <i class=\"mdi mdi-palette\"></i>\\r\\n                    <span>Ký hiệu đất</span>\\r\\n                </a>\\r\\n                <a href=\"https://www.google.com/maps/search/?api=1&query=10.78615734346311,106.7001578019138\" target=\"_blank\"\\r\\n                   class=\"btn btn-outline-blue\">\\r\\n                    <i class=\"mdi mdi-directions\"></i>\\r\\n                    <span>Chỉ đường</span>\\r\\n                </a>\\r\\n                <a href=\"#\"\\r\\n                   class=\"btn btn-outline-blue draw-border-custom\" id=\"footer-draw\">\\r\\n                    <i class=\"mdi mdi-ruler-square-compass\"></i>\\r\\n                    <span>Đo vẽ</span>\\r\\n                </a>\\r\\n            </div>\\r\\n            </div>\\r\\n',\n",
       " 'ext': []}"
      ]
     },
     "execution_count": 23,
     "metadata": {},
     "output_type": "execute_result"
    }
   ],
   "source": [
    "response.json() #267370490034"
   ]
  },
  {
   "cell_type": "code",
   "execution_count": 11,
   "metadata": {},
   "outputs": [
    {
     "data": {
      "text/plain": [
       "200"
      ]
     },
     "execution_count": 11,
     "metadata": {},
     "output_type": "execute_result"
    }
   ],
   "source": [
    "url = 'https://guland.vn/get-sub-location?id=02&is_bds=1'\n",
    "resp = requests.get(url)\n",
    "resp.status_code"
   ]
  },
  {
   "cell_type": "code",
   "execution_count": 15,
   "metadata": {},
   "outputs": [
    {
     "name": "stdout",
     "output_type": "stream",
     "text": [
      "<option value=\"\">- Chọn -</option>\n",
      "    <option  value=\"031\">Huyện Bắc Mê</option>\n",
      "    <option  value=\"034\">Huyện Bắc Quang</option>\n",
      "    <option  value=\"032\">Huyện Hoàng Su Phì</option>\n",
      "    <option  value=\"027\">Huyện Mèo Vạc</option>\n",
      "    <option  value=\"029\">Huyện Quản Bạ</option>\n",
      "    <option  value=\"035\">Huyện Quang Bình</option>\n",
      "    <option  value=\"030\">Huyện Vị Xuyên</option>\n",
      "    <option  value=\"033\">Huyện Xín Mần</option>\n",
      "    <option  value=\"028\">Huyện Yên Minh</option>\n",
      "    <option  value=\"026\">Huyện Đồng Văn</option>\n",
      "    <option  value=\"024\">Thành phố Hà Giang</option>\n",
      "\n",
      "\n"
     ]
    }
   ],
   "source": [
    "print(resp.text)"
   ]
  },
  {
   "cell_type": "code",
   "execution_count": 17,
   "metadata": {},
   "outputs": [
    {
     "name": "stdout",
     "output_type": "stream",
     "text": [
      "Value: , Text: - Chọn -\n",
      "Value: 031, Text: Huyện Bắc Mê\n",
      "Value: 034, Text: Huyện Bắc Quang\n",
      "Value: 032, Text: Huyện Hoàng Su Phì\n",
      "Value: 027, Text: Huyện Mèo Vạc\n",
      "Value: 029, Text: Huyện Quản Bạ\n",
      "Value: 035, Text: Huyện Quang Bình\n",
      "Value: 030, Text: Huyện Vị Xuyên\n",
      "Value: 033, Text: Huyện Xín Mần\n",
      "Value: 028, Text: Huyện Yên Minh\n",
      "Value: 026, Text: Huyện Đồng Văn\n",
      "Value: 024, Text: Thành phố Hà Giang\n"
     ]
    }
   ],
   "source": [
    "from bs4 import BeautifulSoup\n",
    "\n",
    "# The HTML string\n",
    "html_string = '''<option value=\"\">- Chọn -</option>\n",
    "<option value=\"031\">Huyện Bắc Mê</option>\n",
    "<option value=\"034\">Huyện Bắc Quang</option>\n",
    "<option value=\"032\">Huyện Hoàng Su Phì</option>\n",
    "<option value=\"027\">Huyện Mèo Vạc</option>\n",
    "<option value=\"029\">Huyện Quản Bạ</option>\n",
    "<option value=\"035\">Huyện Quang Bình</option>\n",
    "<option value=\"030\">Huyện Vị Xuyên</option>\n",
    "<option value=\"033\">Huyện Xín Mần</option>\n",
    "<option value=\"028\">Huyện Yên Minh</option>\n",
    "<option value=\"026\">Huyện Đồng Văn</option>\n",
    "<option value=\"024\">Thành phố Hà Giang</option>\n",
    "'''\n",
    "#view district in provice\n",
    " #https://guland.vn/get-sub-location?id=75&is_bds=1 #xem quận huyện trong Đồng Nai\n",
    "\n",
    "#view ward in a district\n",
    "#https://guland.vn/get-sub-location?id=739&type=district #xem xã trong huyện Cẩm Mỹ\n",
    "\n",
    "soup = BeautifulSoup(html_string, 'html.parser')\n",
    "\n",
    "# Find all option tags\n",
    "options = soup.find_all('option')\n",
    "\n",
    "# Extract value and text for each option\n",
    "for option in options:\n",
    "    value = option.get('value')\n",
    "    text = option.text\n",
    "    print(f\"Value: {value}, Text: {text}\")"
   ]
  },
  {
   "cell_type": "code",
   "execution_count": null,
   "metadata": {},
   "outputs": [],
   "source": [
    "#Tạo csv với columns sau: id, type, name\n",
    "type = ['province', 'district', 'ward']\n",
    "'031', 'province', \"TPHCM\"\n",
    "'242421', 'ward', 'xã dieg fedf'\n",
    "#sort by id"
   ]
  },
  {
   "cell_type": "code",
   "execution_count": null,
   "metadata": {},
   "outputs": [],
   "source": []
  }
 ],
 "metadata": {
  "kernelspec": {
   "display_name": "async0",
   "language": "python",
   "name": "python3"
  },
  "language_info": {
   "codemirror_mode": {
    "name": "ipython",
    "version": 3
   },
   "file_extension": ".py",
   "mimetype": "text/x-python",
   "name": "python",
   "nbconvert_exporter": "python",
   "pygments_lexer": "ipython3",
   "version": "3.12.4"
  }
 },
 "nbformat": 4,
 "nbformat_minor": 2
}
