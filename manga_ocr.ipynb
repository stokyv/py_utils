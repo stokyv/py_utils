{
 "cells": [
  {
   "cell_type": "code",
   "execution_count": 2,
   "metadata": {},
   "outputs": [
    {
     "name": "stderr",
     "output_type": "stream",
     "text": [
      "c:\\Users\\Glaucos\\miniconda3\\envs\\manga1\\Lib\\site-packages\\tqdm\\auto.py:21: TqdmWarning: IProgress not found. Please update jupyter and ipywidgets. See https://ipywidgets.readthedocs.io/en/stable/user_install.html\n",
      "  from .autonotebook import tqdm as notebook_tqdm\n"
     ]
    }
   ],
   "source": [
    "from manga_ocr import MangaOcr"
   ]
  },
  {
   "cell_type": "code",
   "execution_count": 6,
   "metadata": {},
   "outputs": [],
   "source": []
  },
  {
   "cell_type": "code",
   "execution_count": 8,
   "metadata": {},
   "outputs": [
    {
     "name": "stderr",
     "output_type": "stream",
     "text": [
      "\u001b[32m2024-05-03 14:23:45.732\u001b[0m | \u001b[1mINFO    \u001b[0m | \u001b[36mmanga_ocr.ocr\u001b[0m:\u001b[36m__init__\u001b[0m:\u001b[36m13\u001b[0m - \u001b[1mLoading OCR model from kha-white/manga-ocr-base\u001b[0m\n",
      "c:\\Users\\Glaucos\\miniconda3\\envs\\manga1\\Lib\\site-packages\\huggingface_hub\\file_download.py:1132: FutureWarning: `resume_download` is deprecated and will be removed in version 1.0.0. Downloads always resume when possible. If you want to force a new download, use `force_download=True`.\n",
      "  warnings.warn(\n",
      "c:\\Users\\Glaucos\\miniconda3\\envs\\manga1\\Lib\\site-packages\\transformers\\models\\vit\\feature_extraction_vit.py:28: FutureWarning: The class ViTFeatureExtractor is deprecated and will be removed in version 5 of Transformers. Please use ViTImageProcessor instead.\n",
      "  warnings.warn(\n",
      "\u001b[32m2024-05-03 14:23:53.803\u001b[0m | \u001b[1mINFO    \u001b[0m | \u001b[36mmanga_ocr.ocr\u001b[0m:\u001b[36m__init__\u001b[0m:\u001b[36m25\u001b[0m - \u001b[1mUsing CPU\u001b[0m\n",
      "\u001b[32m2024-05-03 14:23:55.617\u001b[0m | \u001b[1mINFO    \u001b[0m | \u001b[36mmanga_ocr.ocr\u001b[0m:\u001b[36m__init__\u001b[0m:\u001b[36m32\u001b[0m - \u001b[1mOCR ready\u001b[0m\n"
     ]
    }
   ],
   "source": [
    "mocr = MangaOcr()\n"
   ]
  },
  {
   "cell_type": "code",
   "execution_count": 16,
   "metadata": {},
   "outputs": [],
   "source": [
    "path = r'd:\\test-file\\chrome_j124g90SxJ.png'\n",
    "path = r'c:\\Users\\Glaucos\\Documents\\ShareX\\Screenshots\\2024-05\\chrome_BWifSbIwEw.png'"
   ]
  },
  {
   "cell_type": "code",
   "execution_count": 17,
   "metadata": {},
   "outputs": [
    {
     "data": {
      "text/plain": [
       "'やだからそれは虚偽の説明の上そちらが不完全なモノ提供してましたって話'"
      ]
     },
     "execution_count": 17,
     "metadata": {},
     "output_type": "execute_result"
    }
   ],
   "source": [
    "text = mocr(path)\n",
    "text"
   ]
  },
  {
   "cell_type": "code",
   "execution_count": 18,
   "metadata": {},
   "outputs": [
    {
     "name": "stdout",
     "output_type": "stream",
     "text": [
      "Text has been copied to the clipboard.\n"
     ]
    }
   ],
   "source": [
    "import pyperclip\n",
    "\n",
    "def get_text_from_function():\n",
    "    # This function can be replaced with any function that returns text\n",
    "    return \"Hello, world!\"\n",
    "\n",
    "# Call the function and get the text\n",
    "text_to_copy = get_text_from_function()\n",
    "\n",
    "# Copy the text to the clipboard\n",
    "pyperclip.copy(text_to_copy)\n",
    "\n",
    "# Optionally, print a message to indicate that the text has been copied\n",
    "print(\"Text has been copied to the clipboard.\")\n"
   ]
  },
  {
   "cell_type": "code",
   "execution_count": 21,
   "metadata": {},
   "outputs": [],
   "source": [
    "def f(img_path):\n",
    "    text = mocr(img_path)\n",
    "    pyperclip.copy(text)\n",
    "    print(f\"Text from {img_path} copied to the clipboard.\")\n",
    "    # return text\n",
    "\n",
    "    "
   ]
  },
  {
   "cell_type": "code",
   "execution_count": 22,
   "metadata": {},
   "outputs": [
    {
     "name": "stdout",
     "output_type": "stream",
     "text": [
      "Text from c:\\Users\\Glaucos\\Documents\\ShareX\\Screenshots\\2024-05\\chrome_BWifSbIwEw.png copied to the clipboard.\n"
     ]
    }
   ],
   "source": [
    "f(path)\n"
   ]
  },
  {
   "cell_type": "code",
   "execution_count": 23,
   "metadata": {},
   "outputs": [],
   "source": [
    "def count_files_by_directory(starting_directory):\n",
    "    for root, dirs, files in os.walk(starting_directory):\n",
    "        print(f\"Directory: {root}, File count: {len(files)}\")"
   ]
  },
  {
   "cell_type": "code",
   "execution_count": 25,
   "metadata": {},
   "outputs": [],
   "source": [
    "import os"
   ]
  },
  {
   "cell_type": "code",
   "execution_count": 24,
   "metadata": {},
   "outputs": [
    {
     "ename": "NameError",
     "evalue": "name 'os' is not defined",
     "output_type": "error",
     "traceback": [
      "\u001b[1;31m---------------------------------------------------------------------------\u001b[0m",
      "\u001b[1;31mNameError\u001b[0m                                 Traceback (most recent call last)",
      "Cell \u001b[1;32mIn[24], line 3\u001b[0m\n\u001b[0;32m      1\u001b[0m folder \u001b[38;5;241m=\u001b[39m \u001b[38;5;124mr\u001b[39m\u001b[38;5;124m'\u001b[39m\u001b[38;5;124mC:\u001b[39m\u001b[38;5;124m\\\u001b[39m\u001b[38;5;124mUsers\u001b[39m\u001b[38;5;124m\\\u001b[39m\u001b[38;5;124mGlaucos\u001b[39m\u001b[38;5;124m\\\u001b[39m\u001b[38;5;124mDocuments\u001b[39m\u001b[38;5;124m\\\u001b[39m\u001b[38;5;124mShareX\u001b[39m\u001b[38;5;124m\\\u001b[39m\u001b[38;5;124mScreenshots\u001b[39m\u001b[38;5;124m\\\u001b[39m\u001b[38;5;124m2024-05\u001b[39m\u001b[38;5;124m'\u001b[39m\n\u001b[0;32m      2\u001b[0m \u001b[38;5;28;01mwhile\u001b[39;00m \u001b[38;5;28;01mTrue\u001b[39;00m:\n\u001b[1;32m----> 3\u001b[0m     img_count \u001b[38;5;241m=\u001b[39m count_files_by_directory(folder)\n\u001b[0;32m      4\u001b[0m     \u001b[38;5;28mprint\u001b[39m(img_count)\n",
      "Cell \u001b[1;32mIn[23], line 2\u001b[0m, in \u001b[0;36mcount_files_by_directory\u001b[1;34m(starting_directory)\u001b[0m\n\u001b[0;32m      1\u001b[0m \u001b[38;5;28;01mdef\u001b[39;00m \u001b[38;5;21mcount_files_by_directory\u001b[39m(starting_directory):\n\u001b[1;32m----> 2\u001b[0m     \u001b[38;5;28;01mfor\u001b[39;00m root, dirs, files \u001b[38;5;129;01min\u001b[39;00m os\u001b[38;5;241m.\u001b[39mwalk(starting_directory):\n\u001b[0;32m      3\u001b[0m         \u001b[38;5;28mprint\u001b[39m(\u001b[38;5;124mf\u001b[39m\u001b[38;5;124m\"\u001b[39m\u001b[38;5;124mDirectory: \u001b[39m\u001b[38;5;132;01m{\u001b[39;00mroot\u001b[38;5;132;01m}\u001b[39;00m\u001b[38;5;124m, File count: \u001b[39m\u001b[38;5;132;01m{\u001b[39;00m\u001b[38;5;28mlen\u001b[39m(files)\u001b[38;5;132;01m}\u001b[39;00m\u001b[38;5;124m\"\u001b[39m)\n",
      "\u001b[1;31mNameError\u001b[0m: name 'os' is not defined"
     ]
    }
   ],
   "source": [
    "folder = r'C:\\Users\\Glaucos\\Documents\\ShareX\\Screenshots\\2024-05'\n",
    "while True:\n",
    "    img_count = count_files_by_directory(folder)\n",
    "    print(img_count)"
   ]
  },
  {
   "cell_type": "code",
   "execution_count": 26,
   "metadata": {},
   "outputs": [],
   "source": [
    "import os\n",
    "\n",
    "def get_most_recently_copied_file(folder_path):\n",
    "    try:\n",
    "        # Get a list of all files in the specified folder\n",
    "        files = os.listdir(folder_path)\n",
    "\n",
    "        # Filter out directories from the list (if any)\n",
    "        files = [file for file in files if os.path.isfile(os.path.join(folder_path, file))]\n",
    "\n",
    "        if not files:\n",
    "            print(f\"No files found in '{folder_path}'\")\n",
    "            return None\n",
    "\n",
    "        # Get the most recently modified file based on creation time\n",
    "        most_recent_file = max(files, key=lambda file: os.path.getctime(os.path.join(folder_path, file)))\n",
    "\n",
    "        # Construct the full path of the most recently copied file\n",
    "        most_recent_file_path = os.path.join(folder_path, most_recent_file)\n",
    "\n",
    "        return most_recent_file_path\n",
    "\n",
    "    except OSError as e:\n",
    "        print(f\"Error: {e}\")\n",
    "        return None\n",
    "\n"
   ]
  },
  {
   "cell_type": "code",
   "execution_count": 28,
   "metadata": {},
   "outputs": [
    {
     "name": "stdout",
     "output_type": "stream",
     "text": [
      "Most recent file copied to 'C:\\Users\\Glaucos\\Documents\\ShareX\\Screenshots\\2024-05': C:\\Users\\Glaucos\\Documents\\ShareX\\Screenshots\\2024-05\\chrome_TButwjJ3rm.png\n"
     ]
    }
   ],
   "source": [
    "p1 = get_most_recently_copied_file(folder_path)\n",
    "\n",
    "most_recent_file_path = p1\n",
    "if most_recent_file_path:\n",
    "    print(f\"Most recent file copied to '{folder_path}': {most_recent_file_path}\")\n",
    "else:\n",
    "    print(f\"No recent files found in '{folder_path}'\")\n"
   ]
  },
  {
   "cell_type": "code",
   "execution_count": 30,
   "metadata": {},
   "outputs": [
    {
     "name": "stdout",
     "output_type": "stream",
     "text": [
      "Text from C:\\Users\\Glaucos\\Documents\\ShareX\\Screenshots\\2024-05\\chrome_tLkbn0YSaH.png copied to the clipboard.\n",
      "Text from C:\\Users\\Glaucos\\Documents\\ShareX\\Screenshots\\2024-05\\chrome_cO1vFwLsM0.png copied to the clipboard.\n",
      "Text from C:\\Users\\Glaucos\\Documents\\ShareX\\Screenshots\\2024-05\\chrome_N4NzXmsPzF.png copied to the clipboard.\n",
      "Text from C:\\Users\\Glaucos\\Documents\\ShareX\\Screenshots\\2024-05\\chrome_GFOHBj7gGJ.png copied to the clipboard.\n",
      "Text from C:\\Users\\Glaucos\\Documents\\ShareX\\Screenshots\\2024-05\\chrome_n86A8KHpvv.png copied to the clipboard.\n",
      "Text from C:\\Users\\Glaucos\\Documents\\ShareX\\Screenshots\\2024-05\\chrome_YlkIMrzXaI.png copied to the clipboard.\n"
     ]
    },
    {
     "ename": "KeyboardInterrupt",
     "evalue": "",
     "output_type": "error",
     "traceback": [
      "\u001b[1;31m---------------------------------------------------------------------------\u001b[0m",
      "\u001b[1;31mKeyboardInterrupt\u001b[0m                         Traceback (most recent call last)",
      "Cell \u001b[1;32mIn[30], line 18\u001b[0m\n\u001b[0;32m     16\u001b[0m     path \u001b[38;5;241m=\u001b[39m get_most_recently_copied_file(folder_path)\n\u001b[0;32m     17\u001b[0m     f(path)\n\u001b[1;32m---> 18\u001b[0m time\u001b[38;5;241m.\u001b[39msleep(\u001b[38;5;241m4\u001b[39m)\n",
      "\u001b[1;31mKeyboardInterrupt\u001b[0m: "
     ]
    }
   ],
   "source": [
    "import time\n",
    "\n",
    "folder_path = r'C:\\Users\\Glaucos\\Documents\\ShareX\\Screenshots\\2024-05'\n",
    "\n",
    "#create an infinite loop\n",
    "# interval 4 secs\n",
    "#keep checking this folder\n",
    "files = os.listdir(folder_path)\n",
    "file_count = len(files)\n",
    "\n",
    "while True:\n",
    "    files = os.listdir(folder_path)\n",
    "    curr_file_count = len(files)\n",
    "    if curr_file_count > file_count:\n",
    "        file_count = curr_file_count\n",
    "        path = get_most_recently_copied_file(folder_path)\n",
    "        f(path)\n",
    "    time.sleep(4)\n",
    "    "
   ]
  },
  {
   "cell_type": "code",
   "execution_count": 31,
   "metadata": {},
   "outputs": [
    {
     "name": "stdout",
     "output_type": "stream",
     "text": [
      "Executing foobar()...\n",
      "Invalid input. Please try again.\n",
      "Executing foobar()...\n"
     ]
    },
    {
     "ename": "KeyboardInterrupt",
     "evalue": "Interrupted by user",
     "output_type": "error",
     "traceback": [
      "\u001b[1;31m---------------------------------------------------------------------------\u001b[0m",
      "\u001b[1;31mKeyboardInterrupt\u001b[0m                         Traceback (most recent call last)",
      "Cell \u001b[1;32mIn[31], line 22\u001b[0m\n\u001b[0;32m     19\u001b[0m time\u001b[38;5;241m.\u001b[39msleep(\u001b[38;5;241m4\u001b[39m)\n\u001b[0;32m     21\u001b[0m \u001b[38;5;66;03m# Ask for user input\u001b[39;00m\n\u001b[1;32m---> 22\u001b[0m user_input \u001b[38;5;241m=\u001b[39m \u001b[38;5;28minput\u001b[39m(\u001b[38;5;124m\"\u001b[39m\u001b[38;5;124mType \u001b[39m\u001b[38;5;124m'\u001b[39m\u001b[38;5;124mq\u001b[39m\u001b[38;5;124m'\u001b[39m\u001b[38;5;124m to quit or \u001b[39m\u001b[38;5;124m'\u001b[39m\u001b[38;5;124mf\u001b[39m\u001b[38;5;124m'\u001b[39m\u001b[38;5;124m to call hello(): \u001b[39m\u001b[38;5;124m\"\u001b[39m)\n\u001b[0;32m     24\u001b[0m \u001b[38;5;66;03m# Check user input\u001b[39;00m\n\u001b[0;32m     25\u001b[0m \u001b[38;5;28;01mif\u001b[39;00m user_input \u001b[38;5;241m==\u001b[39m \u001b[38;5;124m'\u001b[39m\u001b[38;5;124mq\u001b[39m\u001b[38;5;124m'\u001b[39m:\n",
      "File \u001b[1;32mc:\\Users\\Glaucos\\miniconda3\\envs\\manga1\\Lib\\site-packages\\ipykernel\\kernelbase.py:1262\u001b[0m, in \u001b[0;36mKernel.raw_input\u001b[1;34m(self, prompt)\u001b[0m\n\u001b[0;32m   1260\u001b[0m     msg \u001b[38;5;241m=\u001b[39m \u001b[38;5;124m\"\u001b[39m\u001b[38;5;124mraw_input was called, but this frontend does not support input requests.\u001b[39m\u001b[38;5;124m\"\u001b[39m\n\u001b[0;32m   1261\u001b[0m     \u001b[38;5;28;01mraise\u001b[39;00m StdinNotImplementedError(msg)\n\u001b[1;32m-> 1262\u001b[0m \u001b[38;5;28;01mreturn\u001b[39;00m \u001b[38;5;28mself\u001b[39m\u001b[38;5;241m.\u001b[39m_input_request(\n\u001b[0;32m   1263\u001b[0m     \u001b[38;5;28mstr\u001b[39m(prompt),\n\u001b[0;32m   1264\u001b[0m     \u001b[38;5;28mself\u001b[39m\u001b[38;5;241m.\u001b[39m_parent_ident[\u001b[38;5;124m\"\u001b[39m\u001b[38;5;124mshell\u001b[39m\u001b[38;5;124m\"\u001b[39m],\n\u001b[0;32m   1265\u001b[0m     \u001b[38;5;28mself\u001b[39m\u001b[38;5;241m.\u001b[39mget_parent(\u001b[38;5;124m\"\u001b[39m\u001b[38;5;124mshell\u001b[39m\u001b[38;5;124m\"\u001b[39m),\n\u001b[0;32m   1266\u001b[0m     password\u001b[38;5;241m=\u001b[39m\u001b[38;5;28;01mFalse\u001b[39;00m,\n\u001b[0;32m   1267\u001b[0m )\n",
      "File \u001b[1;32mc:\\Users\\Glaucos\\miniconda3\\envs\\manga1\\Lib\\site-packages\\ipykernel\\kernelbase.py:1305\u001b[0m, in \u001b[0;36mKernel._input_request\u001b[1;34m(self, prompt, ident, parent, password)\u001b[0m\n\u001b[0;32m   1302\u001b[0m \u001b[38;5;28;01mexcept\u001b[39;00m \u001b[38;5;167;01mKeyboardInterrupt\u001b[39;00m:\n\u001b[0;32m   1303\u001b[0m     \u001b[38;5;66;03m# re-raise KeyboardInterrupt, to truncate traceback\u001b[39;00m\n\u001b[0;32m   1304\u001b[0m     msg \u001b[38;5;241m=\u001b[39m \u001b[38;5;124m\"\u001b[39m\u001b[38;5;124mInterrupted by user\u001b[39m\u001b[38;5;124m\"\u001b[39m\n\u001b[1;32m-> 1305\u001b[0m     \u001b[38;5;28;01mraise\u001b[39;00m \u001b[38;5;167;01mKeyboardInterrupt\u001b[39;00m(msg) \u001b[38;5;28;01mfrom\u001b[39;00m \u001b[38;5;28;01mNone\u001b[39;00m\n\u001b[0;32m   1306\u001b[0m \u001b[38;5;28;01mexcept\u001b[39;00m \u001b[38;5;167;01mException\u001b[39;00m:\n\u001b[0;32m   1307\u001b[0m     \u001b[38;5;28mself\u001b[39m\u001b[38;5;241m.\u001b[39mlog\u001b[38;5;241m.\u001b[39mwarning(\u001b[38;5;124m\"\u001b[39m\u001b[38;5;124mInvalid Message:\u001b[39m\u001b[38;5;124m\"\u001b[39m, exc_info\u001b[38;5;241m=\u001b[39m\u001b[38;5;28;01mTrue\u001b[39;00m)\n",
      "\u001b[1;31mKeyboardInterrupt\u001b[0m: Interrupted by user"
     ]
    }
   ],
   "source": [
    "import time\n",
    "\n",
    "def foobar():\n",
    "    print(\"Executing foobar()...\")\n",
    "    # Replace this with the actual functionality of foobar() function\n",
    "    # For demonstration, we'll just print a message\n",
    "\n",
    "def hello():\n",
    "    print(\"Executing hello()...\")\n",
    "    # Replace this with the actual functionality of hello() function\n",
    "    # For demonstration, we'll just print a message\n",
    "\n",
    "# Infinite loop\n",
    "while True:\n",
    "    # Call foobar() function every 4 seconds\n",
    "    foobar()\n",
    "    \n",
    "    # Wait for 4 seconds\n",
    "    time.sleep(4)\n",
    "    \n",
    "    # Ask for user input\n",
    "    user_input = input(\"Type 'q' to quit or 'f' to call hello(): \")\n",
    "    \n",
    "    # Check user input\n",
    "    if user_input == 'q':\n",
    "        print(\"Exiting loop...\")\n",
    "        break  # Exit the loop if user types 'q'\n",
    "    elif user_input == 'f':\n",
    "        hello()  # Call hello() function if user types 'f'\n",
    "    else:\n",
    "        print(\"Invalid input. Please try again.\")\n"
   ]
  },
  {
   "cell_type": "code",
   "execution_count": 32,
   "metadata": {},
   "outputs": [
    {
     "name": "stdout",
     "output_type": "stream",
     "text": [
      "Executing foobar()...\n",
      "Executing foobar()...\n",
      "Executing foobar()...\n",
      "Executing foobar()...\n",
      "Executing foobar()...\n",
      "Executing foobar()...\n",
      "Executing foobar()...\n",
      "Invalid input. Please try again.\n",
      "Executing foobar()...\n",
      "Executing foobar()...\n",
      "Invalid input. Please try again.\n",
      "Executing foobar()...\n",
      "Executing foobar()...\n",
      "Invalid input. Please try again.\n",
      "Executing foobar()...\n",
      "Exiting loop...\n",
      "Executing foobar()...\n",
      "Executing foobar()...\n",
      "Executing foobar()...\n"
     ]
    },
    {
     "ename": "CancelledError",
     "evalue": "",
     "output_type": "error",
     "traceback": [
      "\u001b[1;31m---------------------------------------------------------------------------\u001b[0m",
      "\u001b[1;31mCancelledError\u001b[0m                            Traceback (most recent call last)",
      "Cell \u001b[1;32mIn[32], line 32\u001b[0m\n\u001b[0;32m     29\u001b[0m     \u001b[38;5;28;01mawait\u001b[39;00m asyncio\u001b[38;5;241m.\u001b[39mgather(task_foobar, task_user_input)\n\u001b[0;32m     31\u001b[0m \u001b[38;5;66;03m# Run the asyncio event loop\u001b[39;00m\n\u001b[1;32m---> 32\u001b[0m \u001b[38;5;28;01mawait\u001b[39;00m main()\n",
      "Cell \u001b[1;32mIn[32], line 29\u001b[0m, in \u001b[0;36mmain\u001b[1;34m()\u001b[0m\n\u001b[0;32m     26\u001b[0m task_user_input \u001b[38;5;241m=\u001b[39m asyncio\u001b[38;5;241m.\u001b[39mcreate_task(user_input())\n\u001b[0;32m     28\u001b[0m \u001b[38;5;66;03m# Wait for both tasks to complete (this will run indefinitely)\u001b[39;00m\n\u001b[1;32m---> 29\u001b[0m \u001b[38;5;28;01mawait\u001b[39;00m asyncio\u001b[38;5;241m.\u001b[39mgather(task_foobar, task_user_input)\n",
      "Cell \u001b[1;32mIn[32], line 6\u001b[0m, in \u001b[0;36mfoobar\u001b[1;34m()\u001b[0m\n\u001b[0;32m      4\u001b[0m \u001b[38;5;28;01mwhile\u001b[39;00m \u001b[38;5;28;01mTrue\u001b[39;00m:\n\u001b[0;32m      5\u001b[0m     \u001b[38;5;28mprint\u001b[39m(\u001b[38;5;124m\"\u001b[39m\u001b[38;5;124mExecuting foobar()...\u001b[39m\u001b[38;5;124m\"\u001b[39m)\n\u001b[1;32m----> 6\u001b[0m     \u001b[38;5;28;01mawait\u001b[39;00m asyncio\u001b[38;5;241m.\u001b[39msleep(\u001b[38;5;241m4\u001b[39m)\n",
      "File \u001b[1;32mc:\\Users\\Glaucos\\miniconda3\\envs\\manga1\\Lib\\asyncio\\tasks.py:649\u001b[0m, in \u001b[0;36msleep\u001b[1;34m(delay, result)\u001b[0m\n\u001b[0;32m    645\u001b[0m h \u001b[38;5;241m=\u001b[39m loop\u001b[38;5;241m.\u001b[39mcall_later(delay,\n\u001b[0;32m    646\u001b[0m                     futures\u001b[38;5;241m.\u001b[39m_set_result_unless_cancelled,\n\u001b[0;32m    647\u001b[0m                     future, result)\n\u001b[0;32m    648\u001b[0m \u001b[38;5;28;01mtry\u001b[39;00m:\n\u001b[1;32m--> 649\u001b[0m     \u001b[38;5;28;01mreturn\u001b[39;00m \u001b[38;5;28;01mawait\u001b[39;00m future\n\u001b[0;32m    650\u001b[0m \u001b[38;5;28;01mfinally\u001b[39;00m:\n\u001b[0;32m    651\u001b[0m     h\u001b[38;5;241m.\u001b[39mcancel()\n",
      "\u001b[1;31mCancelledError\u001b[0m: "
     ]
    }
   ],
   "source": [
    "import asyncio\n",
    "\n",
    "async def foobar():\n",
    "    while True:\n",
    "        print(\"Executing foobar()...\")\n",
    "        await asyncio.sleep(4)  # Wait for 4 seconds before next execution\n",
    "\n",
    "async def hello():\n",
    "    print(\"Executing hello()...\")\n",
    "\n",
    "async def user_input():\n",
    "    while True:\n",
    "        user_input = await asyncio.to_thread(input, \"Type 'q' to quit or 'f' to call hello(): \")\n",
    "        if user_input == 'q':\n",
    "            print(\"Exiting loop...\")\n",
    "            break  # Exit the loop if user types 'q'\n",
    "        elif user_input == 'f':\n",
    "            await hello()  # Call hello() function asynchronously if user types 'f'\n",
    "        else:\n",
    "            print(\"Invalid input. Please try again.\")\n",
    "\n",
    "# Create an asyncio event loop\n",
    "async def main():\n",
    "    # Create tasks for foobar() and user_input() functions\n",
    "    task_foobar = asyncio.create_task(foobar())\n",
    "    task_user_input = asyncio.create_task(user_input())\n",
    "\n",
    "    # Wait for both tasks to complete (this will run indefinitely)\n",
    "    await asyncio.gather(task_foobar, task_user_input)\n",
    "\n",
    "# Run the asyncio event loop\n",
    "await main()\n"
   ]
  }
 ],
 "metadata": {
  "kernelspec": {
   "display_name": "manga1",
   "language": "python",
   "name": "python3"
  },
  "language_info": {
   "codemirror_mode": {
    "name": "ipython",
    "version": 3
   },
   "file_extension": ".py",
   "mimetype": "text/x-python",
   "name": "python",
   "nbconvert_exporter": "python",
   "pygments_lexer": "ipython3",
   "version": "3.11.9"
  }
 },
 "nbformat": 4,
 "nbformat_minor": 2
}
