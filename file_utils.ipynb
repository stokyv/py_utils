{
 "cells": [
  {
   "cell_type": "code",
   "execution_count": 1,
   "metadata": {},
   "outputs": [],
   "source": [
    "import os\n",
    "import os\n",
    "from datetime import datetime\n",
    "import json"
   ]
  },
  {
   "cell_type": "code",
   "execution_count": null,
   "metadata": {},
   "outputs": [],
   "source": [
    "import json\n",
    "\n",
    "def load_json_file(file_path):\n",
    "    \"\"\"Load JSON data from a file into a Python dictionary.\"\"\"\n",
    "    with open(file_path, 'r', encoding='utf-8') as json_file:\n",
    "        data = json.load(json_file)\n",
    "    return data\n",
    "\n",
    "\n",
    "loaded_data = load_json_file(json_file_path)\n",
    "\n",
    "print(\"Loaded JSON data:\")\n",
    "print(loaded_data)\n"
   ]
  },
  {
   "cell_type": "code",
   "execution_count": 8,
   "metadata": {},
   "outputs": [
    {
     "data": {
      "text/plain": [
       "['D:\\\\test1\\\\a.txt',\n",
       " 'D:\\\\test1\\\\b.txt',\n",
       " 'D:\\\\test1\\\\f1\\\\f1a.txt',\n",
       " 'D:\\\\test1\\\\f2\\\\f3\\\\352352.txt']"
      ]
     },
     "execution_count": 8,
     "metadata": {},
     "output_type": "execute_result"
    }
   ],
   "source": [
    "##list all contents of a folder\n",
    "\n",
    "\n",
    "def list_files(starting_directory):\n",
    "    result = []\n",
    "    for root, dirs, files in os.walk(starting_directory):\n",
    "        for file in files:\n",
    "            # Join the current root path with the filename to get the full path\n",
    "            file_path = os.path.join(root, file)\n",
    "            # print(file_path)\n",
    "            result.append(file_path)\n",
    "        # print(f'Folder: {root}')\n",
    "        # print(f'Files: {files}')\n",
    "    return result\n",
    "\n",
    "# Usage\n",
    "path = r'D:\\test1'\n",
    "result = list_files(path)\n",
    "result\n"
   ]
  },
  {
   "cell_type": "code",
   "execution_count": 9,
   "metadata": {},
   "outputs": [
    {
     "name": "stdout",
     "output_type": "stream",
     "text": [
      "Directory: D:\\test1, File count: 2\n",
      "Directory: D:\\test1\\f1, File count: 1\n",
      "Directory: D:\\test1\\f2, File count: 0\n",
      "Directory: D:\\test1\\f2\\f3, File count: 1\n"
     ]
    }
   ],
   "source": [
    "def count_files_by_directory(starting_directory):\n",
    "    for root, dirs, files in os.walk(starting_directory):\n",
    "        print(f\"Directory: {root}, File count: {len(files)}\")\n",
    "\n",
    "# Usage\n",
    "count_files_by_directory(path)"
   ]
  },
  {
   "cell_type": "code",
   "execution_count": 10,
   "metadata": {},
   "outputs": [
    {
     "name": "stdout",
     "output_type": "stream",
     "text": [
      "Found .txt files:\n",
      "D:\\test1\\a.txt\n",
      "D:\\test1\\b.txt\n",
      "D:\\test1\\f1\\f1a.txt\n",
      "D:\\test1\\f2\\f3\\352352.txt\n"
     ]
    }
   ],
   "source": [
    "def find_files(starting_directory, file_extension):\n",
    "    found_files = []\n",
    "    for root, dirs, files in os.walk(starting_directory):\n",
    "        for file in files:\n",
    "            if file.endswith(file_extension):\n",
    "                found_files.append(os.path.join(root, file))\n",
    "    return found_files\n",
    "\n",
    "# Usage\n",
    "result = find_files(path, \".txt\")\n",
    "print(\"Found .txt files:\")\n",
    "for file_path in result:\n",
    "    print(file_path)\n"
   ]
  },
  {
   "cell_type": "code",
   "execution_count": 11,
   "metadata": {},
   "outputs": [],
   "source": [
    "def write_to_txt(lst, txt_file_path):\n",
    "    with open(txt_file_path, 'w') as f:\n",
    "        for line in lst:\n",
    "            f.write(line + '\\n')\n",
    "    print('Content written to {txt_file_path}')"
   ]
  },
  {
   "cell_type": "code",
   "execution_count": 13,
   "metadata": {},
   "outputs": [
    {
     "data": {
      "text/plain": [
       "{'D:\\\\test1': ['a.txt', 'b.txt'],\n",
       " 'D:\\\\test1\\\\f1': ['f1a.txt'],\n",
       " 'D:\\\\test1\\\\f2': [],\n",
       " 'D:\\\\test1\\\\f2\\\\f3': ['352352.txt']}"
      ]
     },
     "execution_count": 13,
     "metadata": {},
     "output_type": "execute_result"
    }
   ],
   "source": [
    "def list_files1(starting_directory):\n",
    "    result = []\n",
    "    for root, dirs, files in os.walk(starting_directory):\n",
    "        for file in files:\n",
    "            # Join the current root path with the filename to get the full path\n",
    "            file_path = os.path.join(root, file)\n",
    "            # print(file_path)\n",
    "        # print(f'Folder: {root}')\n",
    "        # print(f'Files: {files}')\n",
    "        result.append((root, files))\n",
    "    data = {}\n",
    "    for root, files in result:\n",
    "        data[root] = files\n",
    "    return data\n",
    "\n",
    "# Usage\n",
    "data = list_files1(path)\n",
    "data"
   ]
  },
  {
   "cell_type": "code",
   "execution_count": null,
   "metadata": {},
   "outputs": [],
   "source": [
    "import json\n",
    "from datetime import datetime\n",
    "\n",
    "def write_data_with_timestamp(data, file_path):\n",
    "    # Create a dictionary with data and timestamp\n",
    "    data_with_timestamp = {\n",
    "        \"timestamp\": datetime.now().isoformat(), \n",
    "        #call isoformat() to turn datetime ob into a string\n",
    "        \"data\": data,        \n",
    "    }\n",
    "\n",
    "    # Serialize dictionary to JSON format\n",
    "    json_data = json.dumps(data_with_timestamp, indent=2)\n",
    "\n",
    "    # Write JSON data to file\n",
    "    with open(file_path, 'w', encoding='utf-8') as json_file:\n",
    "        json_file.write(json_data)\n",
    "\n",
    "write_data_with_timestamp(data, 'output.json')"
   ]
  },
  {
   "cell_type": "code",
   "execution_count": 14,
   "metadata": {},
   "outputs": [],
   "source": [
    "import json\n",
    "\n",
    "def load_json_file(file_path):\n",
    "    \"\"\"Load JSON data from a file into a Python dictionary.\"\"\"\n",
    "    with open(file_path, 'r', encoding='utf-8') as json_file:\n",
    "        data = json.load(json_file)\n",
    "    return data"
   ]
  },
  {
   "cell_type": "code",
   "execution_count": 16,
   "metadata": {},
   "outputs": [
    {
     "name": "stdout",
     "output_type": "stream",
     "text": [
      "+ D:\\Google Drive\\new\\# My Anime Waifus\n",
      "- D:\\Google Drive\\new\\xxx\\[Tetsu MOMOTA] Chijou Hyakkai 地上100階\n",
      "D:\\Google Drive\\new:\n",
      "++ 19.VOYAGER～日付のない墓標.mp3\n",
      "++ 2 Chapter 1 - Onee-sama to Watashi Ojou-sama ga Isekai Tensei - MangaDex.URL\n",
      "++ 2-15 Weight of the World - 壊レタ世界ノ歌.flac\n",
      "-- 130getanA.pdf\n",
      "D:\\Google Drive\\new\\# Articles:\n",
      "++ screencapture-wsj-articles-3-d-printing-iceland-fish-supply-chains-desktop-metal-11673642250-2023-01-15-03_45_59.png\n",
      "-- hello\n",
      "D:\\Google Drive\\new\\xxx\\fanbox\\7042825 nicole swimsuit:\n",
      "D:\\Google Drive\\new\\xxx\\fanbox\\7219457, 7367533 lingerie:\n",
      "++ 020.jpeg\n",
      "++ 040.jpeg\n",
      "-- 02.jpeg\n",
      "-- 04.jpeg\n",
      "D:\\Google Drive\\new\\xxx\\ryohzoh:\n",
      "-- [Ryoh-zoh] Itaiamai Ch. 20 [English]-1280x.zip\n"
     ]
    }
   ],
   "source": [
    "#track file changes in a folder\n",
    "\n",
    "output0 = load_json_file('output.json')\n",
    "output0 = output0['data']\n",
    "output1 = load_json_file('output1.json')\n",
    "output1 = output1['data']\n",
    "    \n",
    "def track_changes(previous_state, current_state):\n",
    "    '''\n",
    "    Display changes to a folder structure\n",
    "    '''\n",
    "    same_keys = []\n",
    "    for k, v in current_state.items():\n",
    "        if k not in previous_state:\n",
    "            print(f\"+ {k}\")\n",
    "        else:\n",
    "            same_keys.append(k)\n",
    "\n",
    "    for k, v in previous_state.items():\n",
    "        if k not in current_state:\n",
    "            print(f\"- {k}\")\n",
    "\n",
    "    for key in same_keys:\n",
    "        print(f\"{key}:\")\n",
    "        for item in current_state[key]:\n",
    "            if item not in previous_state[key]:\n",
    "                print(f\"++ {item}\")\n",
    "        for item in previous_state[key]:\n",
    "            if item not in current_state[key]:\n",
    "                print(f\"-- {item}\")\n",
    "    \n",
    "\n",
    "track_changes(output0, output1)"
   ]
  }
 ],
 "metadata": {
  "kernelspec": {
   "display_name": "env1",
   "language": "python",
   "name": "python3"
  },
  "language_info": {
   "codemirror_mode": {
    "name": "ipython",
    "version": 3
   },
   "file_extension": ".py",
   "mimetype": "text/x-python",
   "name": "python",
   "nbconvert_exporter": "python",
   "pygments_lexer": "ipython3",
   "version": "3.11.5"
  }
 },
 "nbformat": 4,
 "nbformat_minor": 2
}
